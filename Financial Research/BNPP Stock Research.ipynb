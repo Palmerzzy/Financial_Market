{
 "cells": [
  {
   "cell_type": "code",
   "execution_count": 28,
   "id": "9edae3d3-8fbc-4d95-a528-d4043ac93e9e",
   "metadata": {},
   "outputs": [
    {
     "name": "stderr",
     "output_type": "stream",
     "text": [
      "[*********************100%***********************]  1 of 1 completed\n"
     ]
    },
    {
     "data": {
      "text/html": [
       "<div>\n",
       "<style scoped>\n",
       "    .dataframe tbody tr th:only-of-type {\n",
       "        vertical-align: middle;\n",
       "    }\n",
       "\n",
       "    .dataframe tbody tr th {\n",
       "        vertical-align: top;\n",
       "    }\n",
       "\n",
       "    .dataframe thead tr th {\n",
       "        text-align: left;\n",
       "    }\n",
       "\n",
       "    .dataframe thead tr:last-of-type th {\n",
       "        text-align: right;\n",
       "    }\n",
       "</style>\n",
       "<table border=\"1\" class=\"dataframe\">\n",
       "  <thead>\n",
       "    <tr>\n",
       "      <th>Price</th>\n",
       "      <th>Adj Close</th>\n",
       "      <th>Close</th>\n",
       "      <th>High</th>\n",
       "      <th>Low</th>\n",
       "      <th>Open</th>\n",
       "      <th>Volume</th>\n",
       "    </tr>\n",
       "    <tr>\n",
       "      <th>Ticker</th>\n",
       "      <th>BNP.PA</th>\n",
       "      <th>BNP.PA</th>\n",
       "      <th>BNP.PA</th>\n",
       "      <th>BNP.PA</th>\n",
       "      <th>BNP.PA</th>\n",
       "      <th>BNP.PA</th>\n",
       "    </tr>\n",
       "    <tr>\n",
       "      <th>Date</th>\n",
       "      <th></th>\n",
       "      <th></th>\n",
       "      <th></th>\n",
       "      <th></th>\n",
       "      <th></th>\n",
       "      <th></th>\n",
       "    </tr>\n",
       "  </thead>\n",
       "  <tbody>\n",
       "    <tr>\n",
       "      <th>2020-04-17</th>\n",
       "      <td>17.649704</td>\n",
       "      <td>25.469999</td>\n",
       "      <td>26.594999</td>\n",
       "      <td>25.250000</td>\n",
       "      <td>25.600000</td>\n",
       "      <td>9194930</td>\n",
       "    </tr>\n",
       "    <tr>\n",
       "      <th>2020-04-20</th>\n",
       "      <td>17.805620</td>\n",
       "      <td>25.695000</td>\n",
       "      <td>25.840000</td>\n",
       "      <td>24.870001</td>\n",
       "      <td>25.799999</td>\n",
       "      <td>4940639</td>\n",
       "    </tr>\n",
       "    <tr>\n",
       "      <th>2020-04-21</th>\n",
       "      <td>17.095335</td>\n",
       "      <td>24.670000</td>\n",
       "      <td>25.340000</td>\n",
       "      <td>24.670000</td>\n",
       "      <td>24.900000</td>\n",
       "      <td>6244704</td>\n",
       "    </tr>\n",
       "    <tr>\n",
       "      <th>2020-04-22</th>\n",
       "      <td>17.694748</td>\n",
       "      <td>25.535000</td>\n",
       "      <td>25.665001</td>\n",
       "      <td>24.785000</td>\n",
       "      <td>25.014999</td>\n",
       "      <td>4322856</td>\n",
       "    </tr>\n",
       "    <tr>\n",
       "      <th>2020-04-23</th>\n",
       "      <td>18.800018</td>\n",
       "      <td>27.129999</td>\n",
       "      <td>27.934999</td>\n",
       "      <td>25.965000</td>\n",
       "      <td>26.055000</td>\n",
       "      <td>8228825</td>\n",
       "    </tr>\n",
       "  </tbody>\n",
       "</table>\n",
       "</div>"
      ],
      "text/plain": [
       "Price       Adj Close      Close       High        Low       Open   Volume\n",
       "Ticker         BNP.PA     BNP.PA     BNP.PA     BNP.PA     BNP.PA   BNP.PA\n",
       "Date                                                                      \n",
       "2020-04-17  17.649704  25.469999  26.594999  25.250000  25.600000  9194930\n",
       "2020-04-20  17.805620  25.695000  25.840000  24.870001  25.799999  4940639\n",
       "2020-04-21  17.095335  24.670000  25.340000  24.670000  24.900000  6244704\n",
       "2020-04-22  17.694748  25.535000  25.665001  24.785000  25.014999  4322856\n",
       "2020-04-23  18.800018  27.129999  27.934999  25.965000  26.055000  8228825"
      ]
     },
     "execution_count": 28,
     "metadata": {},
     "output_type": "execute_result"
    }
   ],
   "source": [
    "import yfinance as yf\n",
    "import numpy as np\n",
    "import pandas as pd\n",
    "import matplotlib.pyplot as plt\n",
    "import matplotlib.dates as mdates\n",
    "import yfinance as yf\n",
    "from datetime import datetime, timedelta\n",
    "\n",
    "ticker_symbol = \"BNP.PA\"\n",
    "BNPP = yf.download(ticker_symbol, \n",
    "                    start=datetime.now() - timedelta(days=365*5), \n",
    "                    end=datetime.now(),\n",
    "                    auto_adjust = False)\n",
    "BNPP.head()"
   ]
  },
  {
   "cell_type": "code",
   "execution_count": 29,
   "id": "6768b749-c148-40af-bc3f-8f70699a75d4",
   "metadata": {},
   "outputs": [
    {
     "data": {
      "text/html": [
       "<div>\n",
       "<style scoped>\n",
       "    .dataframe tbody tr th:only-of-type {\n",
       "        vertical-align: middle;\n",
       "    }\n",
       "\n",
       "    .dataframe tbody tr th {\n",
       "        vertical-align: top;\n",
       "    }\n",
       "\n",
       "    .dataframe thead tr th {\n",
       "        text-align: left;\n",
       "    }\n",
       "\n",
       "    .dataframe thead tr:last-of-type th {\n",
       "        text-align: right;\n",
       "    }\n",
       "</style>\n",
       "<table border=\"1\" class=\"dataframe\">\n",
       "  <thead>\n",
       "    <tr>\n",
       "      <th>Price</th>\n",
       "      <th>Adj Close</th>\n",
       "      <th>Close</th>\n",
       "      <th>High</th>\n",
       "      <th>Low</th>\n",
       "      <th>Open</th>\n",
       "      <th>Volume</th>\n",
       "    </tr>\n",
       "    <tr>\n",
       "      <th>Ticker</th>\n",
       "      <th>BNP.PA</th>\n",
       "      <th>BNP.PA</th>\n",
       "      <th>BNP.PA</th>\n",
       "      <th>BNP.PA</th>\n",
       "      <th>BNP.PA</th>\n",
       "      <th>BNP.PA</th>\n",
       "    </tr>\n",
       "    <tr>\n",
       "      <th>Date</th>\n",
       "      <th></th>\n",
       "      <th></th>\n",
       "      <th></th>\n",
       "      <th></th>\n",
       "      <th></th>\n",
       "      <th></th>\n",
       "    </tr>\n",
       "  </thead>\n",
       "  <tbody>\n",
       "    <tr>\n",
       "      <th>2025-04-16</th>\n",
       "      <td>71.029999</td>\n",
       "      <td>71.029999</td>\n",
       "      <td>71.330002</td>\n",
       "      <td>69.800003</td>\n",
       "      <td>69.930000</td>\n",
       "      <td>725521</td>\n",
       "    </tr>\n",
       "    <tr>\n",
       "      <th>2025-04-15</th>\n",
       "      <td>70.580002</td>\n",
       "      <td>70.580002</td>\n",
       "      <td>70.680000</td>\n",
       "      <td>68.580002</td>\n",
       "      <td>68.580002</td>\n",
       "      <td>3565333</td>\n",
       "    </tr>\n",
       "    <tr>\n",
       "      <th>2025-04-14</th>\n",
       "      <td>68.500000</td>\n",
       "      <td>68.500000</td>\n",
       "      <td>68.949997</td>\n",
       "      <td>67.690002</td>\n",
       "      <td>68.190002</td>\n",
       "      <td>4086459</td>\n",
       "    </tr>\n",
       "    <tr>\n",
       "      <th>2025-04-11</th>\n",
       "      <td>65.610001</td>\n",
       "      <td>65.610001</td>\n",
       "      <td>68.800003</td>\n",
       "      <td>64.019997</td>\n",
       "      <td>68.150002</td>\n",
       "      <td>5435045</td>\n",
       "    </tr>\n",
       "    <tr>\n",
       "      <th>2025-04-10</th>\n",
       "      <td>67.230003</td>\n",
       "      <td>67.230003</td>\n",
       "      <td>73.629997</td>\n",
       "      <td>67.230003</td>\n",
       "      <td>73.629997</td>\n",
       "      <td>7709559</td>\n",
       "    </tr>\n",
       "  </tbody>\n",
       "</table>\n",
       "</div>"
      ],
      "text/plain": [
       "Price       Adj Close      Close       High        Low       Open   Volume\n",
       "Ticker         BNP.PA     BNP.PA     BNP.PA     BNP.PA     BNP.PA   BNP.PA\n",
       "Date                                                                      \n",
       "2025-04-16  71.029999  71.029999  71.330002  69.800003  69.930000   725521\n",
       "2025-04-15  70.580002  70.580002  70.680000  68.580002  68.580002  3565333\n",
       "2025-04-14  68.500000  68.500000  68.949997  67.690002  68.190002  4086459\n",
       "2025-04-11  65.610001  65.610001  68.800003  64.019997  68.150002  5435045\n",
       "2025-04-10  67.230003  67.230003  73.629997  67.230003  73.629997  7709559"
      ]
     },
     "execution_count": 29,
     "metadata": {},
     "output_type": "execute_result"
    }
   ],
   "source": [
    "BNPP_sorted = BNPP.sort_index(ascending = False)\n",
    "BNPP_sorted.head()"
   ]
  },
  {
   "cell_type": "code",
   "execution_count": 30,
   "id": "98b980ab-a1dc-4808-ad9c-ce836475bb29",
   "metadata": {},
   "outputs": [
    {
     "data": {
      "text/html": [
       "<div>\n",
       "<style scoped>\n",
       "    .dataframe tbody tr th:only-of-type {\n",
       "        vertical-align: middle;\n",
       "    }\n",
       "\n",
       "    .dataframe tbody tr th {\n",
       "        vertical-align: top;\n",
       "    }\n",
       "\n",
       "    .dataframe thead tr th {\n",
       "        text-align: left;\n",
       "    }\n",
       "\n",
       "    .dataframe thead tr:last-of-type th {\n",
       "        text-align: right;\n",
       "    }\n",
       "</style>\n",
       "<table border=\"1\" class=\"dataframe\">\n",
       "  <thead>\n",
       "    <tr>\n",
       "      <th>Price</th>\n",
       "      <th>Adj Close</th>\n",
       "      <th>Close</th>\n",
       "      <th>High</th>\n",
       "      <th>Low</th>\n",
       "      <th>Open</th>\n",
       "      <th>Volume</th>\n",
       "    </tr>\n",
       "    <tr>\n",
       "      <th>Ticker</th>\n",
       "      <th>BNP.PA</th>\n",
       "      <th>BNP.PA</th>\n",
       "      <th>BNP.PA</th>\n",
       "      <th>BNP.PA</th>\n",
       "      <th>BNP.PA</th>\n",
       "      <th>BNP.PA</th>\n",
       "    </tr>\n",
       "    <tr>\n",
       "      <th>Date</th>\n",
       "      <th></th>\n",
       "      <th></th>\n",
       "      <th></th>\n",
       "      <th></th>\n",
       "      <th></th>\n",
       "      <th></th>\n",
       "    </tr>\n",
       "  </thead>\n",
       "  <tbody>\n",
       "    <tr>\n",
       "      <th>2020-04-23</th>\n",
       "      <td>18.800018</td>\n",
       "      <td>27.129999</td>\n",
       "      <td>27.934999</td>\n",
       "      <td>25.965000</td>\n",
       "      <td>26.055000</td>\n",
       "      <td>8228825</td>\n",
       "    </tr>\n",
       "    <tr>\n",
       "      <th>2020-04-22</th>\n",
       "      <td>17.694748</td>\n",
       "      <td>25.535000</td>\n",
       "      <td>25.665001</td>\n",
       "      <td>24.785000</td>\n",
       "      <td>25.014999</td>\n",
       "      <td>4322856</td>\n",
       "    </tr>\n",
       "    <tr>\n",
       "      <th>2020-04-21</th>\n",
       "      <td>17.095335</td>\n",
       "      <td>24.670000</td>\n",
       "      <td>25.340000</td>\n",
       "      <td>24.670000</td>\n",
       "      <td>24.900000</td>\n",
       "      <td>6244704</td>\n",
       "    </tr>\n",
       "    <tr>\n",
       "      <th>2020-04-20</th>\n",
       "      <td>17.805620</td>\n",
       "      <td>25.695000</td>\n",
       "      <td>25.840000</td>\n",
       "      <td>24.870001</td>\n",
       "      <td>25.799999</td>\n",
       "      <td>4940639</td>\n",
       "    </tr>\n",
       "    <tr>\n",
       "      <th>2020-04-17</th>\n",
       "      <td>17.649704</td>\n",
       "      <td>25.469999</td>\n",
       "      <td>26.594999</td>\n",
       "      <td>25.250000</td>\n",
       "      <td>25.600000</td>\n",
       "      <td>9194930</td>\n",
       "    </tr>\n",
       "  </tbody>\n",
       "</table>\n",
       "</div>"
      ],
      "text/plain": [
       "Price       Adj Close      Close       High        Low       Open   Volume\n",
       "Ticker         BNP.PA     BNP.PA     BNP.PA     BNP.PA     BNP.PA   BNP.PA\n",
       "Date                                                                      \n",
       "2020-04-23  18.800018  27.129999  27.934999  25.965000  26.055000  8228825\n",
       "2020-04-22  17.694748  25.535000  25.665001  24.785000  25.014999  4322856\n",
       "2020-04-21  17.095335  24.670000  25.340000  24.670000  24.900000  6244704\n",
       "2020-04-20  17.805620  25.695000  25.840000  24.870001  25.799999  4940639\n",
       "2020-04-17  17.649704  25.469999  26.594999  25.250000  25.600000  9194930"
      ]
     },
     "execution_count": 30,
     "metadata": {},
     "output_type": "execute_result"
    }
   ],
   "source": [
    "BNPP_sorted.tail()"
   ]
  },
  {
   "cell_type": "code",
   "execution_count": 31,
   "id": "4744029b-a6a0-4dd0-9908-72dd48bc4b26",
   "metadata": {},
   "outputs": [
    {
     "data": {
      "text/plain": [
       "DatetimeIndex(['2025-04-16', '2025-04-15', '2025-04-14', '2025-04-11',\n",
       "               '2025-04-10', '2025-04-09', '2025-04-08', '2025-04-07',\n",
       "               '2025-04-04', '2025-04-03',\n",
       "               ...\n",
       "               '2020-04-30', '2020-04-29', '2020-04-28', '2020-04-27',\n",
       "               '2020-04-24', '2020-04-23', '2020-04-22', '2020-04-21',\n",
       "               '2020-04-20', '2020-04-17'],\n",
       "              dtype='datetime64[ns]', name='Date', length=1284, freq=None)"
      ]
     },
     "execution_count": 31,
     "metadata": {},
     "output_type": "execute_result"
    }
   ],
   "source": [
    "BNPP_sorted.index"
   ]
  },
  {
   "cell_type": "code",
   "execution_count": 32,
   "id": "6e33d948-ead1-4ce3-9221-b7e650ba377d",
   "metadata": {},
   "outputs": [],
   "source": [
    "BNPP_sorted.to_excel(\"BNPP_last_5yrs.xlsx\", index = True)"
   ]
  },
  {
   "cell_type": "code",
   "execution_count": 33,
   "id": "50c69599-98d2-4c8b-ba88-f9cf681cce23",
   "metadata": {},
   "outputs": [
    {
     "data": {
      "text/plain": [
       "Price      Ticker\n",
       "Adj Close  BNP.PA    float64\n",
       "Close      BNP.PA    float64\n",
       "High       BNP.PA    float64\n",
       "Low        BNP.PA    float64\n",
       "Open       BNP.PA    float64\n",
       "Volume     BNP.PA      int64\n",
       "dtype: object"
      ]
     },
     "execution_count": 33,
     "metadata": {},
     "output_type": "execute_result"
    }
   ],
   "source": [
    "BNPP_sorted.dtypes"
   ]
  },
  {
   "cell_type": "code",
   "execution_count": 34,
   "id": "454b1d1a-2ee6-4725-a547-5237dcca2aff",
   "metadata": {},
   "outputs": [
    {
     "data": {
      "text/html": [
       "<div>\n",
       "<style scoped>\n",
       "    .dataframe tbody tr th:only-of-type {\n",
       "        vertical-align: middle;\n",
       "    }\n",
       "\n",
       "    .dataframe tbody tr th {\n",
       "        vertical-align: top;\n",
       "    }\n",
       "\n",
       "    .dataframe thead tr th {\n",
       "        text-align: left;\n",
       "    }\n",
       "</style>\n",
       "<table border=\"1\" class=\"dataframe\">\n",
       "  <thead>\n",
       "    <tr>\n",
       "      <th>Price</th>\n",
       "      <th>Adj Close</th>\n",
       "      <th>Close</th>\n",
       "      <th>High</th>\n",
       "      <th>Low</th>\n",
       "      <th>Open</th>\n",
       "      <th>Volume</th>\n",
       "    </tr>\n",
       "    <tr>\n",
       "      <th>Ticker</th>\n",
       "      <th>BNP.PA</th>\n",
       "      <th>BNP.PA</th>\n",
       "      <th>BNP.PA</th>\n",
       "      <th>BNP.PA</th>\n",
       "      <th>BNP.PA</th>\n",
       "      <th>BNP.PA</th>\n",
       "    </tr>\n",
       "  </thead>\n",
       "  <tbody>\n",
       "    <tr>\n",
       "      <th>count</th>\n",
       "      <td>1284.000000</td>\n",
       "      <td>1284.000000</td>\n",
       "      <td>1284.000000</td>\n",
       "      <td>1284.000000</td>\n",
       "      <td>1284.000000</td>\n",
       "      <td>1.284000e+03</td>\n",
       "    </tr>\n",
       "    <tr>\n",
       "      <th>mean</th>\n",
       "      <td>47.890098</td>\n",
       "      <td>54.092617</td>\n",
       "      <td>54.733995</td>\n",
       "      <td>53.431398</td>\n",
       "      <td>54.077761</td>\n",
       "      <td>3.465056e+06</td>\n",
       "    </tr>\n",
       "    <tr>\n",
       "      <th>std</th>\n",
       "      <td>12.380058</td>\n",
       "      <td>10.172862</td>\n",
       "      <td>10.163084</td>\n",
       "      <td>10.168456</td>\n",
       "      <td>10.165537</td>\n",
       "      <td>1.832987e+06</td>\n",
       "    </tr>\n",
       "    <tr>\n",
       "      <th>min</th>\n",
       "      <td>17.095335</td>\n",
       "      <td>24.670000</td>\n",
       "      <td>25.340000</td>\n",
       "      <td>24.670000</td>\n",
       "      <td>24.900000</td>\n",
       "      <td>4.077800e+05</td>\n",
       "    </tr>\n",
       "    <tr>\n",
       "      <th>25%</th>\n",
       "      <td>40.449651</td>\n",
       "      <td>49.022499</td>\n",
       "      <td>49.785000</td>\n",
       "      <td>48.189999</td>\n",
       "      <td>49.073750</td>\n",
       "      <td>2.304285e+06</td>\n",
       "    </tr>\n",
       "    <tr>\n",
       "      <th>50%</th>\n",
       "      <td>47.633034</td>\n",
       "      <td>56.065001</td>\n",
       "      <td>56.565001</td>\n",
       "      <td>55.480000</td>\n",
       "      <td>56.000000</td>\n",
       "      <td>3.050787e+06</td>\n",
       "    </tr>\n",
       "    <tr>\n",
       "      <th>75%</th>\n",
       "      <td>56.756054</td>\n",
       "      <td>60.750000</td>\n",
       "      <td>61.332501</td>\n",
       "      <td>60.080000</td>\n",
       "      <td>60.680000</td>\n",
       "      <td>4.046405e+06</td>\n",
       "    </tr>\n",
       "    <tr>\n",
       "      <th>max</th>\n",
       "      <td>81.580002</td>\n",
       "      <td>81.580002</td>\n",
       "      <td>81.580002</td>\n",
       "      <td>80.169998</td>\n",
       "      <td>81.360001</td>\n",
       "      <td>1.798033e+07</td>\n",
       "    </tr>\n",
       "  </tbody>\n",
       "</table>\n",
       "</div>"
      ],
      "text/plain": [
       "Price     Adj Close        Close         High          Low         Open  \\\n",
       "Ticker       BNP.PA       BNP.PA       BNP.PA       BNP.PA       BNP.PA   \n",
       "count   1284.000000  1284.000000  1284.000000  1284.000000  1284.000000   \n",
       "mean      47.890098    54.092617    54.733995    53.431398    54.077761   \n",
       "std       12.380058    10.172862    10.163084    10.168456    10.165537   \n",
       "min       17.095335    24.670000    25.340000    24.670000    24.900000   \n",
       "25%       40.449651    49.022499    49.785000    48.189999    49.073750   \n",
       "50%       47.633034    56.065001    56.565001    55.480000    56.000000   \n",
       "75%       56.756054    60.750000    61.332501    60.080000    60.680000   \n",
       "max       81.580002    81.580002    81.580002    80.169998    81.360001   \n",
       "\n",
       "Price         Volume  \n",
       "Ticker        BNP.PA  \n",
       "count   1.284000e+03  \n",
       "mean    3.465056e+06  \n",
       "std     1.832987e+06  \n",
       "min     4.077800e+05  \n",
       "25%     2.304285e+06  \n",
       "50%     3.050787e+06  \n",
       "75%     4.046405e+06  \n",
       "max     1.798033e+07  "
      ]
     },
     "execution_count": 34,
     "metadata": {},
     "output_type": "execute_result"
    }
   ],
   "source": [
    "BNPP_sorted.describe(include = 'all')"
   ]
  },
  {
   "cell_type": "code",
   "execution_count": 35,
   "id": "ef900930-32c7-43b1-ab4b-5b64ddbfd346",
   "metadata": {},
   "outputs": [
    {
     "data": {
      "text/html": [
       "<div>\n",
       "<style scoped>\n",
       "    .dataframe tbody tr th:only-of-type {\n",
       "        vertical-align: middle;\n",
       "    }\n",
       "\n",
       "    .dataframe tbody tr th {\n",
       "        vertical-align: top;\n",
       "    }\n",
       "\n",
       "    .dataframe thead tr th {\n",
       "        text-align: left;\n",
       "    }\n",
       "</style>\n",
       "<table border=\"1\" class=\"dataframe\">\n",
       "  <thead>\n",
       "    <tr>\n",
       "      <th>Price</th>\n",
       "      <th>Adj Close</th>\n",
       "      <th>Close</th>\n",
       "      <th>Volume</th>\n",
       "    </tr>\n",
       "    <tr>\n",
       "      <th>Ticker</th>\n",
       "      <th>BNP.PA</th>\n",
       "      <th>BNP.PA</th>\n",
       "      <th>BNP.PA</th>\n",
       "    </tr>\n",
       "  </thead>\n",
       "  <tbody>\n",
       "    <tr>\n",
       "      <th>count</th>\n",
       "      <td>1284.000000</td>\n",
       "      <td>1284.000000</td>\n",
       "      <td>1.284000e+03</td>\n",
       "    </tr>\n",
       "    <tr>\n",
       "      <th>mean</th>\n",
       "      <td>47.890098</td>\n",
       "      <td>54.092617</td>\n",
       "      <td>3.465056e+06</td>\n",
       "    </tr>\n",
       "    <tr>\n",
       "      <th>std</th>\n",
       "      <td>12.380058</td>\n",
       "      <td>10.172862</td>\n",
       "      <td>1.832987e+06</td>\n",
       "    </tr>\n",
       "    <tr>\n",
       "      <th>min</th>\n",
       "      <td>17.095335</td>\n",
       "      <td>24.670000</td>\n",
       "      <td>4.077800e+05</td>\n",
       "    </tr>\n",
       "    <tr>\n",
       "      <th>25%</th>\n",
       "      <td>40.449651</td>\n",
       "      <td>49.022499</td>\n",
       "      <td>2.304285e+06</td>\n",
       "    </tr>\n",
       "    <tr>\n",
       "      <th>50%</th>\n",
       "      <td>47.633034</td>\n",
       "      <td>56.065001</td>\n",
       "      <td>3.050787e+06</td>\n",
       "    </tr>\n",
       "    <tr>\n",
       "      <th>75%</th>\n",
       "      <td>56.756054</td>\n",
       "      <td>60.750000</td>\n",
       "      <td>4.046405e+06</td>\n",
       "    </tr>\n",
       "    <tr>\n",
       "      <th>max</th>\n",
       "      <td>81.580002</td>\n",
       "      <td>81.580002</td>\n",
       "      <td>1.798033e+07</td>\n",
       "    </tr>\n",
       "  </tbody>\n",
       "</table>\n",
       "</div>"
      ],
      "text/plain": [
       "Price     Adj Close        Close        Volume\n",
       "Ticker       BNP.PA       BNP.PA        BNP.PA\n",
       "count   1284.000000  1284.000000  1.284000e+03\n",
       "mean      47.890098    54.092617  3.465056e+06\n",
       "std       12.380058    10.172862  1.832987e+06\n",
       "min       17.095335    24.670000  4.077800e+05\n",
       "25%       40.449651    49.022499  2.304285e+06\n",
       "50%       47.633034    56.065001  3.050787e+06\n",
       "75%       56.756054    60.750000  4.046405e+06\n",
       "max       81.580002    81.580002  1.798033e+07"
      ]
     },
     "execution_count": 35,
     "metadata": {},
     "output_type": "execute_result"
    }
   ],
   "source": [
    "BNPP_sorted[['Adj Close', 'Close', 'Volume']].describe()"
   ]
  },
  {
   "cell_type": "code",
   "execution_count": 36,
   "id": "651446b1-b827-46d2-b610-743c57fa665c",
   "metadata": {},
   "outputs": [
    {
     "data": {
      "text/plain": [
       "Price      Ticker\n",
       "Adj Close  BNP.PA    5.936197e+01\n",
       "Close      BNP.PA    6.336000e+01\n",
       "High       BNP.PA    6.382000e+01\n",
       "Low        BNP.PA    6.280000e+01\n",
       "Open       BNP.PA    6.293000e+01\n",
       "Volume     BNP.PA    1.453297e+06\n",
       "Name: 2024-01-02 00:00:00, dtype: float64"
      ]
     },
     "execution_count": 36,
     "metadata": {},
     "output_type": "execute_result"
    }
   ],
   "source": [
    "BNPP_sorted.sort_index(ascending = True).loc['2024-01-02']"
   ]
  },
  {
   "cell_type": "code",
   "execution_count": 37,
   "id": "3507fba1-096c-4261-8ac2-29859b9f2a19",
   "metadata": {},
   "outputs": [],
   "source": [
    "BNPP_2024 = BNPP_sorted.sort_index(ascending = True).loc['2024-01-01':'2024-12-31']"
   ]
  },
  {
   "cell_type": "code",
   "execution_count": 38,
   "id": "189baf18-90a7-4d33-b642-90eb4b016785",
   "metadata": {},
   "outputs": [
    {
     "data": {
      "text/html": [
       "<div>\n",
       "<style scoped>\n",
       "    .dataframe tbody tr th:only-of-type {\n",
       "        vertical-align: middle;\n",
       "    }\n",
       "\n",
       "    .dataframe tbody tr th {\n",
       "        vertical-align: top;\n",
       "    }\n",
       "\n",
       "    .dataframe thead tr th {\n",
       "        text-align: left;\n",
       "    }\n",
       "</style>\n",
       "<table border=\"1\" class=\"dataframe\">\n",
       "  <thead>\n",
       "    <tr>\n",
       "      <th>Price</th>\n",
       "      <th>Adj Close</th>\n",
       "      <th>Close</th>\n",
       "      <th>High</th>\n",
       "      <th>Low</th>\n",
       "      <th>Open</th>\n",
       "      <th>Volume</th>\n",
       "    </tr>\n",
       "    <tr>\n",
       "      <th>Ticker</th>\n",
       "      <th>BNP.PA</th>\n",
       "      <th>BNP.PA</th>\n",
       "      <th>BNP.PA</th>\n",
       "      <th>BNP.PA</th>\n",
       "      <th>BNP.PA</th>\n",
       "      <th>BNP.PA</th>\n",
       "    </tr>\n",
       "  </thead>\n",
       "  <tbody>\n",
       "    <tr>\n",
       "      <th>count</th>\n",
       "      <td>256.000000</td>\n",
       "      <td>256.000000</td>\n",
       "      <td>256.000000</td>\n",
       "      <td>256.000000</td>\n",
       "      <td>256.000000</td>\n",
       "      <td>2.560000e+02</td>\n",
       "    </tr>\n",
       "    <tr>\n",
       "      <th>mean</th>\n",
       "      <td>60.482356</td>\n",
       "      <td>61.971875</td>\n",
       "      <td>62.544414</td>\n",
       "      <td>61.397969</td>\n",
       "      <td>61.970000</td>\n",
       "      <td>2.682913e+06</td>\n",
       "    </tr>\n",
       "    <tr>\n",
       "      <th>std</th>\n",
       "      <td>4.133199</td>\n",
       "      <td>3.957401</td>\n",
       "      <td>3.922069</td>\n",
       "      <td>3.936993</td>\n",
       "      <td>3.929169</td>\n",
       "      <td>1.340327e+06</td>\n",
       "    </tr>\n",
       "    <tr>\n",
       "      <th>min</th>\n",
       "      <td>50.067924</td>\n",
       "      <td>53.439999</td>\n",
       "      <td>54.250000</td>\n",
       "      <td>53.080002</td>\n",
       "      <td>53.500000</td>\n",
       "      <td>4.796860e+05</td>\n",
       "    </tr>\n",
       "    <tr>\n",
       "      <th>25%</th>\n",
       "      <td>58.242500</td>\n",
       "      <td>59.325002</td>\n",
       "      <td>59.927500</td>\n",
       "      <td>58.815001</td>\n",
       "      <td>59.575000</td>\n",
       "      <td>1.747640e+06</td>\n",
       "    </tr>\n",
       "    <tr>\n",
       "      <th>50%</th>\n",
       "      <td>61.070000</td>\n",
       "      <td>61.919998</td>\n",
       "      <td>62.475000</td>\n",
       "      <td>61.404999</td>\n",
       "      <td>61.870001</td>\n",
       "      <td>2.437257e+06</td>\n",
       "    </tr>\n",
       "    <tr>\n",
       "      <th>75%</th>\n",
       "      <td>63.217500</td>\n",
       "      <td>64.465000</td>\n",
       "      <td>64.882500</td>\n",
       "      <td>63.757500</td>\n",
       "      <td>64.477499</td>\n",
       "      <td>3.186836e+06</td>\n",
       "    </tr>\n",
       "    <tr>\n",
       "      <th>max</th>\n",
       "      <td>68.339996</td>\n",
       "      <td>72.900002</td>\n",
       "      <td>73.080002</td>\n",
       "      <td>72.290001</td>\n",
       "      <td>72.349998</td>\n",
       "      <td>9.865002e+06</td>\n",
       "    </tr>\n",
       "  </tbody>\n",
       "</table>\n",
       "</div>"
      ],
      "text/plain": [
       "Price    Adj Close       Close        High         Low        Open  \\\n",
       "Ticker      BNP.PA      BNP.PA      BNP.PA      BNP.PA      BNP.PA   \n",
       "count   256.000000  256.000000  256.000000  256.000000  256.000000   \n",
       "mean     60.482356   61.971875   62.544414   61.397969   61.970000   \n",
       "std       4.133199    3.957401    3.922069    3.936993    3.929169   \n",
       "min      50.067924   53.439999   54.250000   53.080002   53.500000   \n",
       "25%      58.242500   59.325002   59.927500   58.815001   59.575000   \n",
       "50%      61.070000   61.919998   62.475000   61.404999   61.870001   \n",
       "75%      63.217500   64.465000   64.882500   63.757500   64.477499   \n",
       "max      68.339996   72.900002   73.080002   72.290001   72.349998   \n",
       "\n",
       "Price         Volume  \n",
       "Ticker        BNP.PA  \n",
       "count   2.560000e+02  \n",
       "mean    2.682913e+06  \n",
       "std     1.340327e+06  \n",
       "min     4.796860e+05  \n",
       "25%     1.747640e+06  \n",
       "50%     2.437257e+06  \n",
       "75%     3.186836e+06  \n",
       "max     9.865002e+06  "
      ]
     },
     "execution_count": 38,
     "metadata": {},
     "output_type": "execute_result"
    }
   ],
   "source": [
    "BNPP_2024.describe()"
   ]
  },
  {
   "cell_type": "code",
   "execution_count": 39,
   "id": "489c6001-a6af-4938-a29f-639f139841f6",
   "metadata": {},
   "outputs": [
    {
     "name": "stdout",
     "output_type": "stream",
     "text": [
      "Price       Adj Close      Close       High        Low       Open    Volume\n",
      "Ticker         BNP.PA     BNP.PA     BNP.PA     BNP.PA     BNP.PA    BNP.PA\n",
      "Date                                                                       \n",
      "2025-04-16  71.029999  71.029999  71.330002  69.800003  69.930000    725521\n",
      "2025-04-15  70.580002  70.580002  70.680000  68.580002  68.580002   3565333\n",
      "2025-04-14  68.500000  68.500000  68.949997  67.690002  68.190002   4086459\n",
      "2025-04-11  65.610001  65.610001  68.800003  64.019997  68.150002   5435045\n",
      "2025-04-10  67.230003  67.230003  73.629997  67.230003  73.629997   7709559\n",
      "2025-04-09  63.779999  63.779999  65.300003  62.450001  63.680000   6059025\n",
      "2025-04-08  66.190002  66.190002  68.260002  65.050003  67.800003   5756388\n",
      "2025-04-07  66.099998  66.099998  69.379997  61.000000  62.099998  10054532\n",
      "2025-04-04  68.669998  68.669998  72.489998  66.760002  72.349998  10424235\n",
      "2025-04-03  73.699997  73.699997  75.959999  73.699997  75.769997   5866719\n",
      "2025-04-02  77.750000  77.750000  77.750000  76.160004  76.889999   3709465\n",
      "2025-04-01  78.489998  78.489998  78.620003  76.849998  77.330002   3214861\n",
      "2025-03-31  76.910004  76.910004  77.800003  76.279999  77.650002   4346990\n",
      "2025-03-28  78.550003  78.550003  79.550003  78.320000  78.680000   3530438\n",
      "2025-03-27  79.669998  79.669998  80.720001  78.669998  79.529999   2585313\n",
      "2025-03-26  80.400002  80.400002  81.410004  80.169998  81.360001   2745755\n",
      "2025-03-25  81.580002  81.580002  81.580002  79.769997  79.889999   3139788\n",
      "2025-03-24  79.430000  79.430000  80.820000  79.430000  80.559998   2433226\n",
      "2025-03-21  79.720001  79.720001  80.220001  78.419998  78.949997   7614235\n",
      "2025-03-20  79.050003  79.050003  80.879997  78.449997  80.699997   3094729\n"
     ]
    }
   ],
   "source": [
    "# Select the first 5 rows:\n",
    "first_20 = BNPP_sorted.iloc[0:20]\n",
    "print(first_20)"
   ]
  },
  {
   "cell_type": "code",
   "execution_count": 40,
   "id": "8fc9529c-b69f-4c7d-96b1-2d8a6556c8a2",
   "metadata": {},
   "outputs": [
    {
     "data": {
      "text/plain": [
       "Price      Ticker\n",
       "Adj Close  BNP.PA    float64\n",
       "Close      BNP.PA    float64\n",
       "High       BNP.PA    float64\n",
       "Low        BNP.PA    float64\n",
       "Open       BNP.PA    float64\n",
       "Volume     BNP.PA      int64\n",
       "dtype: object"
      ]
     },
     "execution_count": 40,
     "metadata": {},
     "output_type": "execute_result"
    }
   ],
   "source": [
    "first_20.dtypes"
   ]
  },
  {
   "cell_type": "code",
   "execution_count": 41,
   "id": "79ebbd83-bb7b-4ab8-886f-5a28b40b0300",
   "metadata": {},
   "outputs": [
    {
     "name": "stdout",
     "output_type": "stream",
     "text": [
      "Index(['Adj Close_BNP.PA', 'Close_BNP.PA', 'High_BNP.PA', 'Low_BNP.PA',\n",
      "       'Open_BNP.PA', 'Volume_BNP.PA'],\n",
      "      dtype='object')\n"
     ]
    }
   ],
   "source": [
    "# Flatten the multi-level columns\n",
    "first_20.columns = ['_'.join(col).strip() for col in first_20.columns.values]\n",
    "\n",
    "# Check the new column names\n",
    "print(first_20.columns)"
   ]
  },
  {
   "cell_type": "code",
   "execution_count": 42,
   "id": "74d6d440-8a97-4e65-a79f-885258126397",
   "metadata": {},
   "outputs": [
    {
     "data": {
      "text/plain": [
       "0    Adj Close_BNP.PA\n",
       "1        Close_BNP.PA\n",
       "2         High_BNP.PA\n",
       "3          Low_BNP.PA\n",
       "4         Open_BNP.PA\n",
       "5       Volume_BNP.PA\n",
       "dtype: object"
      ]
     },
     "execution_count": 42,
     "metadata": {},
     "output_type": "execute_result"
    }
   ],
   "source": [
    "pd.Series(first_20.columns)"
   ]
  },
  {
   "cell_type": "code",
   "execution_count": 43,
   "id": "e1b87221-7ae9-4be1-b526-f25c24611f51",
   "metadata": {},
   "outputs": [
    {
     "name": "stderr",
     "output_type": "stream",
     "text": [
      "C:\\ProgramData\\anaconda3\\Lib\\site-packages\\_plotly_utils\\basevalidators.py:106: FutureWarning:\n",
      "\n",
      "The behavior of DatetimeProperties.to_pydatetime is deprecated, in a future version this will return a Series containing python datetime objects instead of an ndarray. To retain the old behavior, call `np.array` on the result\n",
      "\n"
     ]
    },
    {
     "data": {
      "application/vnd.plotly.v1+json": {
       "config": {
        "plotlyServerURL": "https://plot.ly"
       },
       "data": [
        {
         "hovertemplate": "Date=%{x}<br>Adjusted Close Price (€)=%{y}<extra></extra>",
         "legendgroup": "",
         "line": {
          "color": "darkgreen",
          "dash": "solid"
         },
         "marker": {
          "symbol": "circle"
         },
         "mode": "lines+markers",
         "name": "",
         "orientation": "v",
         "showlegend": false,
         "type": "scatter",
         "x": [
          "2025-04-16T00:00:00",
          "2025-04-15T00:00:00",
          "2025-04-14T00:00:00",
          "2025-04-11T00:00:00",
          "2025-04-10T00:00:00",
          "2025-04-09T00:00:00",
          "2025-04-08T00:00:00",
          "2025-04-07T00:00:00",
          "2025-04-04T00:00:00",
          "2025-04-03T00:00:00",
          "2025-04-02T00:00:00",
          "2025-04-01T00:00:00",
          "2025-03-31T00:00:00",
          "2025-03-28T00:00:00",
          "2025-03-27T00:00:00",
          "2025-03-26T00:00:00",
          "2025-03-25T00:00:00",
          "2025-03-24T00:00:00",
          "2025-03-21T00:00:00",
          "2025-03-20T00:00:00"
         ],
         "xaxis": "x",
         "y": [
          71.02999877929688,
          70.58000183105469,
          68.5,
          65.61000061035156,
          67.2300033569336,
          63.779998779296875,
          66.19000244140625,
          66.0999984741211,
          68.66999816894531,
          73.69999694824219,
          77.75,
          78.48999786376953,
          76.91000366210938,
          78.55000305175781,
          79.66999816894531,
          80.4000015258789,
          81.58000183105469,
          79.43000030517578,
          79.72000122070312,
          79.05000305175781
         ],
         "yaxis": "y"
        }
       ],
       "layout": {
        "autosize": true,
        "legend": {
         "tracegroupgap": 0
        },
        "template": {
         "data": {
          "bar": [
           {
            "error_x": {
             "color": "#2a3f5f"
            },
            "error_y": {
             "color": "#2a3f5f"
            },
            "marker": {
             "line": {
              "color": "white",
              "width": 0.5
             },
             "pattern": {
              "fillmode": "overlay",
              "size": 10,
              "solidity": 0.2
             }
            },
            "type": "bar"
           }
          ],
          "barpolar": [
           {
            "marker": {
             "line": {
              "color": "white",
              "width": 0.5
             },
             "pattern": {
              "fillmode": "overlay",
              "size": 10,
              "solidity": 0.2
             }
            },
            "type": "barpolar"
           }
          ],
          "carpet": [
           {
            "aaxis": {
             "endlinecolor": "#2a3f5f",
             "gridcolor": "#C8D4E3",
             "linecolor": "#C8D4E3",
             "minorgridcolor": "#C8D4E3",
             "startlinecolor": "#2a3f5f"
            },
            "baxis": {
             "endlinecolor": "#2a3f5f",
             "gridcolor": "#C8D4E3",
             "linecolor": "#C8D4E3",
             "minorgridcolor": "#C8D4E3",
             "startlinecolor": "#2a3f5f"
            },
            "type": "carpet"
           }
          ],
          "choropleth": [
           {
            "colorbar": {
             "outlinewidth": 0,
             "ticks": ""
            },
            "type": "choropleth"
           }
          ],
          "contour": [
           {
            "colorbar": {
             "outlinewidth": 0,
             "ticks": ""
            },
            "colorscale": [
             [
              0,
              "#0d0887"
             ],
             [
              0.1111111111111111,
              "#46039f"
             ],
             [
              0.2222222222222222,
              "#7201a8"
             ],
             [
              0.3333333333333333,
              "#9c179e"
             ],
             [
              0.4444444444444444,
              "#bd3786"
             ],
             [
              0.5555555555555556,
              "#d8576b"
             ],
             [
              0.6666666666666666,
              "#ed7953"
             ],
             [
              0.7777777777777778,
              "#fb9f3a"
             ],
             [
              0.8888888888888888,
              "#fdca26"
             ],
             [
              1,
              "#f0f921"
             ]
            ],
            "type": "contour"
           }
          ],
          "contourcarpet": [
           {
            "colorbar": {
             "outlinewidth": 0,
             "ticks": ""
            },
            "type": "contourcarpet"
           }
          ],
          "heatmap": [
           {
            "colorbar": {
             "outlinewidth": 0,
             "ticks": ""
            },
            "colorscale": [
             [
              0,
              "#0d0887"
             ],
             [
              0.1111111111111111,
              "#46039f"
             ],
             [
              0.2222222222222222,
              "#7201a8"
             ],
             [
              0.3333333333333333,
              "#9c179e"
             ],
             [
              0.4444444444444444,
              "#bd3786"
             ],
             [
              0.5555555555555556,
              "#d8576b"
             ],
             [
              0.6666666666666666,
              "#ed7953"
             ],
             [
              0.7777777777777778,
              "#fb9f3a"
             ],
             [
              0.8888888888888888,
              "#fdca26"
             ],
             [
              1,
              "#f0f921"
             ]
            ],
            "type": "heatmap"
           }
          ],
          "heatmapgl": [
           {
            "colorbar": {
             "outlinewidth": 0,
             "ticks": ""
            },
            "colorscale": [
             [
              0,
              "#0d0887"
             ],
             [
              0.1111111111111111,
              "#46039f"
             ],
             [
              0.2222222222222222,
              "#7201a8"
             ],
             [
              0.3333333333333333,
              "#9c179e"
             ],
             [
              0.4444444444444444,
              "#bd3786"
             ],
             [
              0.5555555555555556,
              "#d8576b"
             ],
             [
              0.6666666666666666,
              "#ed7953"
             ],
             [
              0.7777777777777778,
              "#fb9f3a"
             ],
             [
              0.8888888888888888,
              "#fdca26"
             ],
             [
              1,
              "#f0f921"
             ]
            ],
            "type": "heatmapgl"
           }
          ],
          "histogram": [
           {
            "marker": {
             "pattern": {
              "fillmode": "overlay",
              "size": 10,
              "solidity": 0.2
             }
            },
            "type": "histogram"
           }
          ],
          "histogram2d": [
           {
            "colorbar": {
             "outlinewidth": 0,
             "ticks": ""
            },
            "colorscale": [
             [
              0,
              "#0d0887"
             ],
             [
              0.1111111111111111,
              "#46039f"
             ],
             [
              0.2222222222222222,
              "#7201a8"
             ],
             [
              0.3333333333333333,
              "#9c179e"
             ],
             [
              0.4444444444444444,
              "#bd3786"
             ],
             [
              0.5555555555555556,
              "#d8576b"
             ],
             [
              0.6666666666666666,
              "#ed7953"
             ],
             [
              0.7777777777777778,
              "#fb9f3a"
             ],
             [
              0.8888888888888888,
              "#fdca26"
             ],
             [
              1,
              "#f0f921"
             ]
            ],
            "type": "histogram2d"
           }
          ],
          "histogram2dcontour": [
           {
            "colorbar": {
             "outlinewidth": 0,
             "ticks": ""
            },
            "colorscale": [
             [
              0,
              "#0d0887"
             ],
             [
              0.1111111111111111,
              "#46039f"
             ],
             [
              0.2222222222222222,
              "#7201a8"
             ],
             [
              0.3333333333333333,
              "#9c179e"
             ],
             [
              0.4444444444444444,
              "#bd3786"
             ],
             [
              0.5555555555555556,
              "#d8576b"
             ],
             [
              0.6666666666666666,
              "#ed7953"
             ],
             [
              0.7777777777777778,
              "#fb9f3a"
             ],
             [
              0.8888888888888888,
              "#fdca26"
             ],
             [
              1,
              "#f0f921"
             ]
            ],
            "type": "histogram2dcontour"
           }
          ],
          "mesh3d": [
           {
            "colorbar": {
             "outlinewidth": 0,
             "ticks": ""
            },
            "type": "mesh3d"
           }
          ],
          "parcoords": [
           {
            "line": {
             "colorbar": {
              "outlinewidth": 0,
              "ticks": ""
             }
            },
            "type": "parcoords"
           }
          ],
          "pie": [
           {
            "automargin": true,
            "type": "pie"
           }
          ],
          "scatter": [
           {
            "fillpattern": {
             "fillmode": "overlay",
             "size": 10,
             "solidity": 0.2
            },
            "type": "scatter"
           }
          ],
          "scatter3d": [
           {
            "line": {
             "colorbar": {
              "outlinewidth": 0,
              "ticks": ""
             }
            },
            "marker": {
             "colorbar": {
              "outlinewidth": 0,
              "ticks": ""
             }
            },
            "type": "scatter3d"
           }
          ],
          "scattercarpet": [
           {
            "marker": {
             "colorbar": {
              "outlinewidth": 0,
              "ticks": ""
             }
            },
            "type": "scattercarpet"
           }
          ],
          "scattergeo": [
           {
            "marker": {
             "colorbar": {
              "outlinewidth": 0,
              "ticks": ""
             }
            },
            "type": "scattergeo"
           }
          ],
          "scattergl": [
           {
            "marker": {
             "colorbar": {
              "outlinewidth": 0,
              "ticks": ""
             }
            },
            "type": "scattergl"
           }
          ],
          "scattermapbox": [
           {
            "marker": {
             "colorbar": {
              "outlinewidth": 0,
              "ticks": ""
             }
            },
            "type": "scattermapbox"
           }
          ],
          "scatterpolar": [
           {
            "marker": {
             "colorbar": {
              "outlinewidth": 0,
              "ticks": ""
             }
            },
            "type": "scatterpolar"
           }
          ],
          "scatterpolargl": [
           {
            "marker": {
             "colorbar": {
              "outlinewidth": 0,
              "ticks": ""
             }
            },
            "type": "scatterpolargl"
           }
          ],
          "scatterternary": [
           {
            "marker": {
             "colorbar": {
              "outlinewidth": 0,
              "ticks": ""
             }
            },
            "type": "scatterternary"
           }
          ],
          "surface": [
           {
            "colorbar": {
             "outlinewidth": 0,
             "ticks": ""
            },
            "colorscale": [
             [
              0,
              "#0d0887"
             ],
             [
              0.1111111111111111,
              "#46039f"
             ],
             [
              0.2222222222222222,
              "#7201a8"
             ],
             [
              0.3333333333333333,
              "#9c179e"
             ],
             [
              0.4444444444444444,
              "#bd3786"
             ],
             [
              0.5555555555555556,
              "#d8576b"
             ],
             [
              0.6666666666666666,
              "#ed7953"
             ],
             [
              0.7777777777777778,
              "#fb9f3a"
             ],
             [
              0.8888888888888888,
              "#fdca26"
             ],
             [
              1,
              "#f0f921"
             ]
            ],
            "type": "surface"
           }
          ],
          "table": [
           {
            "cells": {
             "fill": {
              "color": "#EBF0F8"
             },
             "line": {
              "color": "white"
             }
            },
            "header": {
             "fill": {
              "color": "#C8D4E3"
             },
             "line": {
              "color": "white"
             }
            },
            "type": "table"
           }
          ]
         },
         "layout": {
          "annotationdefaults": {
           "arrowcolor": "#2a3f5f",
           "arrowhead": 0,
           "arrowwidth": 1
          },
          "autotypenumbers": "strict",
          "coloraxis": {
           "colorbar": {
            "outlinewidth": 0,
            "ticks": ""
           }
          },
          "colorscale": {
           "diverging": [
            [
             0,
             "#8e0152"
            ],
            [
             0.1,
             "#c51b7d"
            ],
            [
             0.2,
             "#de77ae"
            ],
            [
             0.3,
             "#f1b6da"
            ],
            [
             0.4,
             "#fde0ef"
            ],
            [
             0.5,
             "#f7f7f7"
            ],
            [
             0.6,
             "#e6f5d0"
            ],
            [
             0.7,
             "#b8e186"
            ],
            [
             0.8,
             "#7fbc41"
            ],
            [
             0.9,
             "#4d9221"
            ],
            [
             1,
             "#276419"
            ]
           ],
           "sequential": [
            [
             0,
             "#0d0887"
            ],
            [
             0.1111111111111111,
             "#46039f"
            ],
            [
             0.2222222222222222,
             "#7201a8"
            ],
            [
             0.3333333333333333,
             "#9c179e"
            ],
            [
             0.4444444444444444,
             "#bd3786"
            ],
            [
             0.5555555555555556,
             "#d8576b"
            ],
            [
             0.6666666666666666,
             "#ed7953"
            ],
            [
             0.7777777777777778,
             "#fb9f3a"
            ],
            [
             0.8888888888888888,
             "#fdca26"
            ],
            [
             1,
             "#f0f921"
            ]
           ],
           "sequentialminus": [
            [
             0,
             "#0d0887"
            ],
            [
             0.1111111111111111,
             "#46039f"
            ],
            [
             0.2222222222222222,
             "#7201a8"
            ],
            [
             0.3333333333333333,
             "#9c179e"
            ],
            [
             0.4444444444444444,
             "#bd3786"
            ],
            [
             0.5555555555555556,
             "#d8576b"
            ],
            [
             0.6666666666666666,
             "#ed7953"
            ],
            [
             0.7777777777777778,
             "#fb9f3a"
            ],
            [
             0.8888888888888888,
             "#fdca26"
            ],
            [
             1,
             "#f0f921"
            ]
           ]
          },
          "colorway": [
           "#636efa",
           "#EF553B",
           "#00cc96",
           "#ab63fa",
           "#FFA15A",
           "#19d3f3",
           "#FF6692",
           "#B6E880",
           "#FF97FF",
           "#FECB52"
          ],
          "font": {
           "color": "#2a3f5f"
          },
          "geo": {
           "bgcolor": "white",
           "lakecolor": "white",
           "landcolor": "white",
           "showlakes": true,
           "showland": true,
           "subunitcolor": "#C8D4E3"
          },
          "hoverlabel": {
           "align": "left"
          },
          "hovermode": "closest",
          "mapbox": {
           "style": "light"
          },
          "paper_bgcolor": "white",
          "plot_bgcolor": "white",
          "polar": {
           "angularaxis": {
            "gridcolor": "#EBF0F8",
            "linecolor": "#EBF0F8",
            "ticks": ""
           },
           "bgcolor": "white",
           "radialaxis": {
            "gridcolor": "#EBF0F8",
            "linecolor": "#EBF0F8",
            "ticks": ""
           }
          },
          "scene": {
           "xaxis": {
            "backgroundcolor": "white",
            "gridcolor": "#DFE8F3",
            "gridwidth": 2,
            "linecolor": "#EBF0F8",
            "showbackground": true,
            "ticks": "",
            "zerolinecolor": "#EBF0F8"
           },
           "yaxis": {
            "backgroundcolor": "white",
            "gridcolor": "#DFE8F3",
            "gridwidth": 2,
            "linecolor": "#EBF0F8",
            "showbackground": true,
            "ticks": "",
            "zerolinecolor": "#EBF0F8"
           },
           "zaxis": {
            "backgroundcolor": "white",
            "gridcolor": "#DFE8F3",
            "gridwidth": 2,
            "linecolor": "#EBF0F8",
            "showbackground": true,
            "ticks": "",
            "zerolinecolor": "#EBF0F8"
           }
          },
          "shapedefaults": {
           "line": {
            "color": "#2a3f5f"
           }
          },
          "ternary": {
           "aaxis": {
            "gridcolor": "#DFE8F3",
            "linecolor": "#A2B1C6",
            "ticks": ""
           },
           "baxis": {
            "gridcolor": "#DFE8F3",
            "linecolor": "#A2B1C6",
            "ticks": ""
           },
           "bgcolor": "white",
           "caxis": {
            "gridcolor": "#DFE8F3",
            "linecolor": "#A2B1C6",
            "ticks": ""
           }
          },
          "title": {
           "x": 0.05
          },
          "xaxis": {
           "automargin": true,
           "gridcolor": "#EBF0F8",
           "linecolor": "#EBF0F8",
           "ticks": "",
           "title": {
            "standoff": 15
           },
           "zerolinecolor": "#EBF0F8",
           "zerolinewidth": 2
          },
          "yaxis": {
           "automargin": true,
           "gridcolor": "#EBF0F8",
           "linecolor": "#EBF0F8",
           "ticks": "",
           "title": {
            "standoff": 15
           },
           "zerolinecolor": "#EBF0F8",
           "zerolinewidth": 2
          }
         }
        },
        "title": {
         "text": "BNP Paribas - Adjusted Close Price (Last 20 Days)",
         "x": 0.5
        },
        "xaxis": {
         "anchor": "y",
         "autorange": true,
         "domain": [
          0,
          1
         ],
         "dtick": "D1",
         "range": [
          20.16260987153482,
          -1.1626098715348208
         ],
         "tickangle": 45,
         "tickformat": "%Y-%m-%d",
         "tickmode": "linear",
         "title": {
          "text": "Date"
         },
         "type": "category"
        },
        "yaxis": {
         "anchor": "x",
         "autorange": true,
         "domain": [
          0,
          1
         ],
         "range": [
          62.011228759958165,
          83.3487718503934
         ],
         "title": {
          "text": "Adjusted Close Price (€)"
         },
         "type": "linear"
        }
       }
      },
      "image/png": "[encoded data removed]",
      "text/html": [
       "<div>                            <div id=\"bf0a23d7-3f5c-4ad7-aa70-a68f6b27df34\" class=\"plotly-graph-div\" style=\"height:525px; width:100%;\"></div>            <script type=\"text/javascript\">                require([\"plotly\"], function(Plotly) {                    window.PLOTLYENV=window.PLOTLYENV || {};                                    if (document.getElementById(\"bf0a23d7-3f5c-4ad7-aa70-a68f6b27df34\")) {                    Plotly.newPlot(                        \"bf0a23d7-3f5c-4ad7-aa70-a68f6b27df34\",                        [{\"hovertemplate\":\"Date=%{x}<br>Adjusted Close Price (\\u20ac)=%{y}<extra></extra>\",\"legendgroup\":\"\",\"line\":{\"color\":\"darkgreen\",\"dash\":\"solid\"},\"marker\":{\"symbol\":\"circle\"},\"mode\":\"lines+markers\",\"name\":\"\",\"orientation\":\"v\",\"showlegend\":false,\"x\":[\"2025-04-16T00:00:00\",\"2025-04-15T00:00:00\",\"2025-04-14T00:00:00\",\"2025-04-11T00:00:00\",\"2025-04-10T00:00:00\",\"2025-04-09T00:00:00\",\"2025-04-08T00:00:00\",\"2025-04-07T00:00:00\",\"2025-04-04T00:00:00\",\"2025-04-03T00:00:00\",\"2025-04-02T00:00:00\",\"2025-04-01T00:00:00\",\"2025-03-31T00:00:00\",\"2025-03-28T00:00:00\",\"2025-03-27T00:00:00\",\"2025-03-26T00:00:00\",\"2025-03-25T00:00:00\",\"2025-03-24T00:00:00\",\"2025-03-21T00:00:00\",\"2025-03-20T00:00:00\"],\"xaxis\":\"x\",\"y\":[71.02999877929688,70.58000183105469,68.5,65.61000061035156,67.2300033569336,63.779998779296875,66.19000244140625,66.0999984741211,68.66999816894531,73.69999694824219,77.75,78.48999786376953,76.91000366210938,78.55000305175781,79.66999816894531,80.4000015258789,81.58000183105469,79.43000030517578,79.72000122070312,79.05000305175781],\"yaxis\":\"y\",\"type\":\"scatter\"}],                        {\"template\":{\"data\":{\"barpolar\":[{\"marker\":{\"line\":{\"color\":\"white\",\"width\":0.5},\"pattern\":{\"fillmode\":\"overlay\",\"size\":10,\"solidity\":0.2}},\"type\":\"barpolar\"}],\"bar\":[{\"error_x\":{\"color\":\"#2a3f5f\"},\"error_y\":{\"color\":\"#2a3f5f\"},\"marker\":{\"line\":{\"color\":\"white\",\"width\":0.5},\"pattern\":{\"fillmode\":\"overlay\",\"size\":10,\"solidity\":0.2}},\"type\":\"bar\"}],\"carpet\":[{\"aaxis\":{\"endlinecolor\":\"#2a3f5f\",\"gridcolor\":\"#C8D4E3\",\"linecolor\":\"#C8D4E3\",\"minorgridcolor\":\"#C8D4E3\",\"startlinecolor\":\"#2a3f5f\"},\"baxis\":{\"endlinecolor\":\"#2a3f5f\",\"gridcolor\":\"#C8D4E3\",\"linecolor\":\"#C8D4E3\",\"minorgridcolor\":\"#C8D4E3\",\"startlinecolor\":\"#2a3f5f\"},\"type\":\"carpet\"}],\"choropleth\":[{\"colorbar\":{\"outlinewidth\":0,\"ticks\":\"\"},\"type\":\"choropleth\"}],\"contourcarpet\":[{\"colorbar\":{\"outlinewidth\":0,\"ticks\":\"\"},\"type\":\"contourcarpet\"}],\"contour\":[{\"colorbar\":{\"outlinewidth\":0,\"ticks\":\"\"},\"colorscale\":[[0.0,\"#0d0887\"],[0.1111111111111111,\"#46039f\"],[0.2222222222222222,\"#7201a8\"],[0.3333333333333333,\"#9c179e\"],[0.4444444444444444,\"#bd3786\"],[0.5555555555555556,\"#d8576b\"],[0.6666666666666666,\"#ed7953\"],[0.7777777777777778,\"#fb9f3a\"],[0.8888888888888888,\"#fdca26\"],[1.0,\"#f0f921\"]],\"type\":\"contour\"}],\"heatmapgl\":[{\"colorbar\":{\"outlinewidth\":0,\"ticks\":\"\"},\"colorscale\":[[0.0,\"#0d0887\"],[0.1111111111111111,\"#46039f\"],[0.2222222222222222,\"#7201a8\"],[0.3333333333333333,\"#9c179e\"],[0.4444444444444444,\"#bd3786\"],[0.5555555555555556,\"#d8576b\"],[0.6666666666666666,\"#ed7953\"],[0.7777777777777778,\"#fb9f3a\"],[0.8888888888888888,\"#fdca26\"],[1.0,\"#f0f921\"]],\"type\":\"heatmapgl\"}],\"heatmap\":[{\"colorbar\":{\"outlinewidth\":0,\"ticks\":\"\"},\"colorscale\":[[0.0,\"#0d0887\"],[0.1111111111111111,\"#46039f\"],[0.2222222222222222,\"#7201a8\"],[0.3333333333333333,\"#9c179e\"],[0.4444444444444444,\"#bd3786\"],[0.5555555555555556,\"#d8576b\"],[0.6666666666666666,\"#ed7953\"],[0.7777777777777778,\"#fb9f3a\"],[0.8888888888888888,\"#fdca26\"],[1.0,\"#f0f921\"]],\"type\":\"heatmap\"}],\"histogram2dcontour\":[{\"colorbar\":{\"outlinewidth\":0,\"ticks\":\"\"},\"colorscale\":[[0.0,\"#0d0887\"],[0.1111111111111111,\"#46039f\"],[0.2222222222222222,\"#7201a8\"],[0.3333333333333333,\"#9c179e\"],[0.4444444444444444,\"#bd3786\"],[0.5555555555555556,\"#d8576b\"],[0.6666666666666666,\"#ed7953\"],[0.7777777777777778,\"#fb9f3a\"],[0.8888888888888888,\"#fdca26\"],[1.0,\"#f0f921\"]],\"type\":\"histogram2dcontour\"}],\"histogram2d\":[{\"colorbar\":{\"outlinewidth\":0,\"ticks\":\"\"},\"colorscale\":[[0.0,\"#0d0887\"],[0.1111111111111111,\"#46039f\"],[0.2222222222222222,\"#7201a8\"],[0.3333333333333333,\"#9c179e\"],[0.4444444444444444,\"#bd3786\"],[0.5555555555555556,\"#d8576b\"],[0.6666666666666666,\"#ed7953\"],[0.7777777777777778,\"#fb9f3a\"],[0.8888888888888888,\"#fdca26\"],[1.0,\"#f0f921\"]],\"type\":\"histogram2d\"}],\"histogram\":[{\"marker\":{\"pattern\":{\"fillmode\":\"overlay\",\"size\":10,\"solidity\":0.2}},\"type\":\"histogram\"}],\"mesh3d\":[{\"colorbar\":{\"outlinewidth\":0,\"ticks\":\"\"},\"type\":\"mesh3d\"}],\"parcoords\":[{\"line\":{\"colorbar\":{\"outlinewidth\":0,\"ticks\":\"\"}},\"type\":\"parcoords\"}],\"pie\":[{\"automargin\":true,\"type\":\"pie\"}],\"scatter3d\":[{\"line\":{\"colorbar\":{\"outlinewidth\":0,\"ticks\":\"\"}},\"marker\":{\"colorbar\":{\"outlinewidth\":0,\"ticks\":\"\"}},\"type\":\"scatter3d\"}],\"scattercarpet\":[{\"marker\":{\"colorbar\":{\"outlinewidth\":0,\"ticks\":\"\"}},\"type\":\"scattercarpet\"}],\"scattergeo\":[{\"marker\":{\"colorbar\":{\"outlinewidth\":0,\"ticks\":\"\"}},\"type\":\"scattergeo\"}],\"scattergl\":[{\"marker\":{\"colorbar\":{\"outlinewidth\":0,\"ticks\":\"\"}},\"type\":\"scattergl\"}],\"scattermapbox\":[{\"marker\":{\"colorbar\":{\"outlinewidth\":0,\"ticks\":\"\"}},\"type\":\"scattermapbox\"}],\"scatterpolargl\":[{\"marker\":{\"colorbar\":{\"outlinewidth\":0,\"ticks\":\"\"}},\"type\":\"scatterpolargl\"}],\"scatterpolar\":[{\"marker\":{\"colorbar\":{\"outlinewidth\":0,\"ticks\":\"\"}},\"type\":\"scatterpolar\"}],\"scatter\":[{\"fillpattern\":{\"fillmode\":\"overlay\",\"size\":10,\"solidity\":0.2},\"type\":\"scatter\"}],\"scatterternary\":[{\"marker\":{\"colorbar\":{\"outlinewidth\":0,\"ticks\":\"\"}},\"type\":\"scatterternary\"}],\"surface\":[{\"colorbar\":{\"outlinewidth\":0,\"ticks\":\"\"},\"colorscale\":[[0.0,\"#0d0887\"],[0.1111111111111111,\"#46039f\"],[0.2222222222222222,\"#7201a8\"],[0.3333333333333333,\"#9c179e\"],[0.4444444444444444,\"#bd3786\"],[0.5555555555555556,\"#d8576b\"],[0.6666666666666666,\"#ed7953\"],[0.7777777777777778,\"#fb9f3a\"],[0.8888888888888888,\"#fdca26\"],[1.0,\"#f0f921\"]],\"type\":\"surface\"}],\"table\":[{\"cells\":{\"fill\":{\"color\":\"#EBF0F8\"},\"line\":{\"color\":\"white\"}},\"header\":{\"fill\":{\"color\":\"#C8D4E3\"},\"line\":{\"color\":\"white\"}},\"type\":\"table\"}]},\"layout\":{\"annotationdefaults\":{\"arrowcolor\":\"#2a3f5f\",\"arrowhead\":0,\"arrowwidth\":1},\"autotypenumbers\":\"strict\",\"coloraxis\":{\"colorbar\":{\"outlinewidth\":0,\"ticks\":\"\"}},\"colorscale\":{\"diverging\":[[0,\"#8e0152\"],[0.1,\"#c51b7d\"],[0.2,\"#de77ae\"],[0.3,\"#f1b6da\"],[0.4,\"#fde0ef\"],[0.5,\"#f7f7f7\"],[0.6,\"#e6f5d0\"],[0.7,\"#b8e186\"],[0.8,\"#7fbc41\"],[0.9,\"#4d9221\"],[1,\"#276419\"]],\"sequential\":[[0.0,\"#0d0887\"],[0.1111111111111111,\"#46039f\"],[0.2222222222222222,\"#7201a8\"],[0.3333333333333333,\"#9c179e\"],[0.4444444444444444,\"#bd3786\"],[0.5555555555555556,\"#d8576b\"],[0.6666666666666666,\"#ed7953\"],[0.7777777777777778,\"#fb9f3a\"],[0.8888888888888888,\"#fdca26\"],[1.0,\"#f0f921\"]],\"sequentialminus\":[[0.0,\"#0d0887\"],[0.1111111111111111,\"#46039f\"],[0.2222222222222222,\"#7201a8\"],[0.3333333333333333,\"#9c179e\"],[0.4444444444444444,\"#bd3786\"],[0.5555555555555556,\"#d8576b\"],[0.6666666666666666,\"#ed7953\"],[0.7777777777777778,\"#fb9f3a\"],[0.8888888888888888,\"#fdca26\"],[1.0,\"#f0f921\"]]},\"colorway\":[\"#636efa\",\"#EF553B\",\"#00cc96\",\"#ab63fa\",\"#FFA15A\",\"#19d3f3\",\"#FF6692\",\"#B6E880\",\"#FF97FF\",\"#FECB52\"],\"font\":{\"color\":\"#2a3f5f\"},\"geo\":{\"bgcolor\":\"white\",\"lakecolor\":\"white\",\"landcolor\":\"white\",\"showlakes\":true,\"showland\":true,\"subunitcolor\":\"#C8D4E3\"},\"hoverlabel\":{\"align\":\"left\"},\"hovermode\":\"closest\",\"mapbox\":{\"style\":\"light\"},\"paper_bgcolor\":\"white\",\"plot_bgcolor\":\"white\",\"polar\":{\"angularaxis\":{\"gridcolor\":\"#EBF0F8\",\"linecolor\":\"#EBF0F8\",\"ticks\":\"\"},\"bgcolor\":\"white\",\"radialaxis\":{\"gridcolor\":\"#EBF0F8\",\"linecolor\":\"#EBF0F8\",\"ticks\":\"\"}},\"scene\":{\"xaxis\":{\"backgroundcolor\":\"white\",\"gridcolor\":\"#DFE8F3\",\"gridwidth\":2,\"linecolor\":\"#EBF0F8\",\"showbackground\":true,\"ticks\":\"\",\"zerolinecolor\":\"#EBF0F8\"},\"yaxis\":{\"backgroundcolor\":\"white\",\"gridcolor\":\"#DFE8F3\",\"gridwidth\":2,\"linecolor\":\"#EBF0F8\",\"showbackground\":true,\"ticks\":\"\",\"zerolinecolor\":\"#EBF0F8\"},\"zaxis\":{\"backgroundcolor\":\"white\",\"gridcolor\":\"#DFE8F3\",\"gridwidth\":2,\"linecolor\":\"#EBF0F8\",\"showbackground\":true,\"ticks\":\"\",\"zerolinecolor\":\"#EBF0F8\"}},\"shapedefaults\":{\"line\":{\"color\":\"#2a3f5f\"}},\"ternary\":{\"aaxis\":{\"gridcolor\":\"#DFE8F3\",\"linecolor\":\"#A2B1C6\",\"ticks\":\"\"},\"baxis\":{\"gridcolor\":\"#DFE8F3\",\"linecolor\":\"#A2B1C6\",\"ticks\":\"\"},\"bgcolor\":\"white\",\"caxis\":{\"gridcolor\":\"#DFE8F3\",\"linecolor\":\"#A2B1C6\",\"ticks\":\"\"}},\"title\":{\"x\":0.05},\"xaxis\":{\"automargin\":true,\"gridcolor\":\"#EBF0F8\",\"linecolor\":\"#EBF0F8\",\"ticks\":\"\",\"title\":{\"standoff\":15},\"zerolinecolor\":\"#EBF0F8\",\"zerolinewidth\":2},\"yaxis\":{\"automargin\":true,\"gridcolor\":\"#EBF0F8\",\"linecolor\":\"#EBF0F8\",\"ticks\":\"\",\"title\":{\"standoff\":15},\"zerolinecolor\":\"#EBF0F8\",\"zerolinewidth\":2}}},\"xaxis\":{\"anchor\":\"y\",\"domain\":[0.0,1.0],\"title\":{\"text\":\"Date\"},\"tickformat\":\"%Y-%m-%d\",\"tickangle\":45,\"tickmode\":\"linear\",\"dtick\":\"D1\",\"type\":\"category\",\"autorange\":\"reversed\"},\"yaxis\":{\"anchor\":\"x\",\"domain\":[0.0,1.0],\"title\":{\"text\":\"Adjusted Close Price (\\u20ac)\"}},\"legend\":{\"tracegroupgap\":0},\"title\":{\"text\":\"BNP Paribas - Adjusted Close Price (Last 20 Days)\",\"x\":0.5}},                        {\"responsive\": true}                    ).then(function(){\n",
       "                            \n",
       "var gd = document.getElementById('bf0a23d7-3f5c-4ad7-aa70-a68f6b27df34');\n",
       "var x = new MutationObserver(function (mutations, observer) {{\n",
       "        var display = window.getComputedStyle(gd).display;\n",
       "        if (!display || display === 'none') {{\n",
       "            console.log([gd, 'removed!']);\n",
       "            Plotly.purge(gd);\n",
       "            observer.disconnect();\n",
       "        }}\n",
       "}});\n",
       "\n",
       "// Listen for the removal of the full notebook cells\n",
       "var notebookContainer = gd.closest('#notebook-container');\n",
       "if (notebookContainer) {{\n",
       "    x.observe(notebookContainer, {childList: true});\n",
       "}}\n",
       "\n",
       "// Listen for the clearing of the current output cell\n",
       "var outputEl = gd.closest('.output');\n",
       "if (outputEl) {{\n",
       "    x.observe(outputEl, {childList: true});\n",
       "}}\n",
       "\n",
       "                        })                };                });            </script>        </div>"
      ]
     },
     "metadata": {},
     "output_type": "display_data"
    }
   ],
   "source": [
    "import plotly.express as px\n",
    "\n",
    "# Reset index to use 'Date' as a column\n",
    "first_20_reset = first_20.reset_index()\n",
    "\n",
    "# Plot the adjusted close price\n",
    "fig = px.line(first_20_reset,\n",
    "              x='Date',\n",
    "              y='Adj Close_BNP.PA',\n",
    "              title='BNP Paribas - Adjusted Close Price (Last 20 Days)',\n",
    "              labels={'Adj Close_BNP.PA': 'Adjusted Close Price (€)'},\n",
    "              markers=True)\n",
    "\n",
    "fig.update_layout(\n",
    "    title_x=0.5,  # Center the title\n",
    "    xaxis_title='Date',\n",
    "    yaxis_title='Adjusted Close Price (€)',\n",
    "    xaxis=dict(\n",
    "        tickformat=\"%Y-%m-%d\",\n",
    "        tickangle=45,\n",
    "        tickmode='linear',\n",
    "        dtick=\"D1\",\n",
    "        type='category',\n",
    "        autorange='reversed'\n",
    "    ),\n",
    "    template='plotly_white'\n",
    ")\n",
    "\n",
    "# Change the line color to dark green\n",
    "fig.update_traces(line=dict(color='darkgreen'))\n",
    "\n",
    "fig.show()"
   ]
  },
  {
   "cell_type": "code",
   "execution_count": null,
   "id": "28454f23-294b-49d5-9c12-5a79ad6ff095",
   "metadata": {},
   "outputs": [
    {
     "data": {
      "text/html": [
       "<div>\n",
       "<style scoped>\n",
       "    .dataframe tbody tr th:only-of-type {\n",
       "        vertical-align: middle;\n",
       "    }\n",
       "\n",
       "    .dataframe tbody tr th {\n",
       "        vertical-align: top;\n",
       "    }\n",
       "\n",
       "    .dataframe thead th {\n",
       "        text-align: right;\n",
       "    }\n",
       "</style>\n",
       "<table border=\"1\" class=\"dataframe\">\n",
       "  <thead>\n",
       "    <tr style=\"text-align: right;\">\n",
       "      <th></th>\n",
       "      <th>Price</th>\n",
       "      <th>Adj Close</th>\n",
       "      <th>Close</th>\n",
       "      <th>High</th>\n",
       "      <th>Low</th>\n",
       "      <th>Open</th>\n",
       "      <th>Volume</th>\n",
       "    </tr>\n",
       "  </thead>\n",
       "  <tbody>\n",
       "    <tr>\n",
       "      <th>0</th>\n",
       "      <td>Ticker</td>\n",
       "      <td>BNP.PA</td>\n",
       "      <td>BNP.PA</td>\n",
       "      <td>BNP.PA</td>\n",
       "      <td>BNP.PA</td>\n",
       "      <td>BNP.PA</td>\n",
       "      <td>BNP.PA</td>\n",
       "    </tr>\n",
       "    <tr>\n",
       "      <th>1</th>\n",
       "      <td>Date</td>\n",
       "      <td>NaN</td>\n",
       "      <td>NaN</td>\n",
       "      <td>NaN</td>\n",
       "      <td>NaN</td>\n",
       "      <td>NaN</td>\n",
       "      <td>NaN</td>\n",
       "    </tr>\n",
       "    <tr>\n",
       "      <th>2</th>\n",
       "      <td>2025-04-16 00:00:00</td>\n",
       "      <td>71.029999</td>\n",
       "      <td>71.029999</td>\n",
       "      <td>71.330002</td>\n",
       "      <td>69.800003</td>\n",
       "      <td>69.93</td>\n",
       "      <td>725521</td>\n",
       "    </tr>\n",
       "    <tr>\n",
       "      <th>3</th>\n",
       "      <td>2025-04-15 00:00:00</td>\n",
       "      <td>70.580002</td>\n",
       "      <td>70.580002</td>\n",
       "      <td>70.68</td>\n",
       "      <td>68.580002</td>\n",
       "      <td>68.580002</td>\n",
       "      <td>3565333</td>\n",
       "    </tr>\n",
       "    <tr>\n",
       "      <th>4</th>\n",
       "      <td>2025-04-14 00:00:00</td>\n",
       "      <td>68.5</td>\n",
       "      <td>68.5</td>\n",
       "      <td>68.949997</td>\n",
       "      <td>67.690002</td>\n",
       "      <td>68.190002</td>\n",
       "      <td>4086459</td>\n",
       "    </tr>\n",
       "    <tr>\n",
       "      <th>...</th>\n",
       "      <td>...</td>\n",
       "      <td>...</td>\n",
       "      <td>...</td>\n",
       "      <td>...</td>\n",
       "      <td>...</td>\n",
       "      <td>...</td>\n",
       "      <td>...</td>\n",
       "    </tr>\n",
       "    <tr>\n",
       "      <th>1281</th>\n",
       "      <td>2020-04-23 00:00:00</td>\n",
       "      <td>18.800018</td>\n",
       "      <td>27.129999</td>\n",
       "      <td>27.934999</td>\n",
       "      <td>25.965</td>\n",
       "      <td>26.055</td>\n",
       "      <td>8228825</td>\n",
       "    </tr>\n",
       "    <tr>\n",
       "      <th>1282</th>\n",
       "      <td>2020-04-22 00:00:00</td>\n",
       "      <td>17.694748</td>\n",
       "      <td>25.535</td>\n",
       "      <td>25.665001</td>\n",
       "      <td>24.785</td>\n",
       "      <td>25.014999</td>\n",
       "      <td>4322856</td>\n",
       "    </tr>\n",
       "    <tr>\n",
       "      <th>1283</th>\n",
       "      <td>2020-04-21 00:00:00</td>\n",
       "      <td>17.095335</td>\n",
       "      <td>24.67</td>\n",
       "      <td>25.34</td>\n",
       "      <td>24.67</td>\n",
       "      <td>24.9</td>\n",
       "      <td>6244704</td>\n",
       "    </tr>\n",
       "    <tr>\n",
       "      <th>1284</th>\n",
       "      <td>2020-04-20 00:00:00</td>\n",
       "      <td>17.80562</td>\n",
       "      <td>25.695</td>\n",
       "      <td>25.84</td>\n",
       "      <td>24.870001</td>\n",
       "      <td>25.799999</td>\n",
       "      <td>4940639</td>\n",
       "    </tr>\n",
       "    <tr>\n",
       "      <th>1285</th>\n",
       "      <td>2020-04-17 00:00:00</td>\n",
       "      <td>17.649704</td>\n",
       "      <td>25.469999</td>\n",
       "      <td>26.594999</td>\n",
       "      <td>25.25</td>\n",
       "      <td>25.6</td>\n",
       "      <td>9194930</td>\n",
       "    </tr>\n",
       "  </tbody>\n",
       "</table>\n",
       "<p>1286 rows × 7 columns</p>\n",
       "</div>"
      ],
      "text/plain": [
       "                    Price  Adj Close      Close       High        Low  \\\n",
       "0                  Ticker     BNP.PA     BNP.PA     BNP.PA     BNP.PA   \n",
       "1                    Date        NaN        NaN        NaN        NaN   \n",
       "2     2025-04-16 00:00:00  71.029999  71.029999  71.330002  69.800003   \n",
       "3     2025-04-15 00:00:00  70.580002  70.580002      70.68  68.580002   \n",
       "4     2025-04-14 00:00:00       68.5       68.5  68.949997  67.690002   \n",
       "...                   ...        ...        ...        ...        ...   \n",
       "1281  2020-04-23 00:00:00  18.800018  27.129999  27.934999     25.965   \n",
       "1282  2020-04-22 00:00:00  17.694748     25.535  25.665001     24.785   \n",
       "1283  2020-04-21 00:00:00  17.095335      24.67      25.34      24.67   \n",
       "1284  2020-04-20 00:00:00   17.80562     25.695      25.84  24.870001   \n",
       "1285  2020-04-17 00:00:00  17.649704  25.469999  26.594999      25.25   \n",
       "\n",
       "           Open   Volume  \n",
       "0        BNP.PA   BNP.PA  \n",
       "1           NaN      NaN  \n",
       "2         69.93   725521  \n",
       "3     68.580002  3565333  \n",
       "4     68.190002  4086459  \n",
       "...         ...      ...  \n",
       "1281     26.055  8228825  \n",
       "1282  25.014999  4322856  \n",
       "1283       24.9  6244704  \n",
       "1284  25.799999  4940639  \n",
       "1285       25.6  9194930  \n",
       "\n",
       "[1286 rows x 7 columns]"
      ]
     },
     "execution_count": 80,
     "metadata": {},
     "output_type": "execute_result"
    }
   ],
   "source": [
    "filePath = r\"C:\\Users\\Maël\\OneDrive - Audencia\\Mon Espace\\Tech Learning\\Financial Market\\Financial Research\\BNPP_last_5yrs.xlsx\"\n",
    "read_file = pd.read_excel(filePath, header = 0) # hearder = 0 contains header, header = None ignores header\n",
    "read_file"
   ]
  },
  {
   "cell_type": "code",
   "execution_count": 81,
   "id": "f322a808-2000-48f7-b74f-bc7564b2338c",
   "metadata": {},
   "outputs": [
    {
     "data": {
      "text/html": [
       "<div>\n",
       "<style scoped>\n",
       "    .dataframe tbody tr th:only-of-type {\n",
       "        vertical-align: middle;\n",
       "    }\n",
       "\n",
       "    .dataframe tbody tr th {\n",
       "        vertical-align: top;\n",
       "    }\n",
       "\n",
       "    .dataframe thead th {\n",
       "        text-align: right;\n",
       "    }\n",
       "</style>\n",
       "<table border=\"1\" class=\"dataframe\">\n",
       "  <thead>\n",
       "    <tr style=\"text-align: right;\">\n",
       "      <th></th>\n",
       "      <th>Price</th>\n",
       "      <th>Adj Close</th>\n",
       "      <th>Close</th>\n",
       "      <th>High</th>\n",
       "      <th>Low</th>\n",
       "      <th>Open</th>\n",
       "      <th>Volume</th>\n",
       "    </tr>\n",
       "  </thead>\n",
       "  <tbody>\n",
       "    <tr>\n",
       "      <th>0</th>\n",
       "      <td>Ticker</td>\n",
       "      <td>NaN</td>\n",
       "      <td>NaN</td>\n",
       "      <td>NaN</td>\n",
       "      <td>NaN</td>\n",
       "      <td>NaN</td>\n",
       "      <td>NaN</td>\n",
       "    </tr>\n",
       "    <tr>\n",
       "      <th>1</th>\n",
       "      <td>Date</td>\n",
       "      <td>NaN</td>\n",
       "      <td>NaN</td>\n",
       "      <td>NaN</td>\n",
       "      <td>NaN</td>\n",
       "      <td>NaN</td>\n",
       "      <td>NaN</td>\n",
       "    </tr>\n",
       "    <tr>\n",
       "      <th>2</th>\n",
       "      <td>2025-04-16 00:00:00</td>\n",
       "      <td>71.029999</td>\n",
       "      <td>71.029999</td>\n",
       "      <td>71.330002</td>\n",
       "      <td>69.800003</td>\n",
       "      <td>69.930000</td>\n",
       "      <td>725521.0</td>\n",
       "    </tr>\n",
       "    <tr>\n",
       "      <th>3</th>\n",
       "      <td>2025-04-15 00:00:00</td>\n",
       "      <td>70.580002</td>\n",
       "      <td>70.580002</td>\n",
       "      <td>70.680000</td>\n",
       "      <td>68.580002</td>\n",
       "      <td>68.580002</td>\n",
       "      <td>3565333.0</td>\n",
       "    </tr>\n",
       "    <tr>\n",
       "      <th>4</th>\n",
       "      <td>2025-04-14 00:00:00</td>\n",
       "      <td>68.500000</td>\n",
       "      <td>68.500000</td>\n",
       "      <td>68.949997</td>\n",
       "      <td>67.690002</td>\n",
       "      <td>68.190002</td>\n",
       "      <td>4086459.0</td>\n",
       "    </tr>\n",
       "    <tr>\n",
       "      <th>...</th>\n",
       "      <td>...</td>\n",
       "      <td>...</td>\n",
       "      <td>...</td>\n",
       "      <td>...</td>\n",
       "      <td>...</td>\n",
       "      <td>...</td>\n",
       "      <td>...</td>\n",
       "    </tr>\n",
       "    <tr>\n",
       "      <th>1281</th>\n",
       "      <td>2020-04-23 00:00:00</td>\n",
       "      <td>18.800018</td>\n",
       "      <td>27.129999</td>\n",
       "      <td>27.934999</td>\n",
       "      <td>25.965000</td>\n",
       "      <td>26.055000</td>\n",
       "      <td>8228825.0</td>\n",
       "    </tr>\n",
       "    <tr>\n",
       "      <th>1282</th>\n",
       "      <td>2020-04-22 00:00:00</td>\n",
       "      <td>17.694748</td>\n",
       "      <td>25.535000</td>\n",
       "      <td>25.665001</td>\n",
       "      <td>24.785000</td>\n",
       "      <td>25.014999</td>\n",
       "      <td>4322856.0</td>\n",
       "    </tr>\n",
       "    <tr>\n",
       "      <th>1283</th>\n",
       "      <td>2020-04-21 00:00:00</td>\n",
       "      <td>17.095335</td>\n",
       "      <td>24.670000</td>\n",
       "      <td>25.340000</td>\n",
       "      <td>24.670000</td>\n",
       "      <td>24.900000</td>\n",
       "      <td>6244704.0</td>\n",
       "    </tr>\n",
       "    <tr>\n",
       "      <th>1284</th>\n",
       "      <td>2020-04-20 00:00:00</td>\n",
       "      <td>17.805620</td>\n",
       "      <td>25.695000</td>\n",
       "      <td>25.840000</td>\n",
       "      <td>24.870001</td>\n",
       "      <td>25.799999</td>\n",
       "      <td>4940639.0</td>\n",
       "    </tr>\n",
       "    <tr>\n",
       "      <th>1285</th>\n",
       "      <td>2020-04-17 00:00:00</td>\n",
       "      <td>17.649704</td>\n",
       "      <td>25.469999</td>\n",
       "      <td>26.594999</td>\n",
       "      <td>25.250000</td>\n",
       "      <td>25.600000</td>\n",
       "      <td>9194930.0</td>\n",
       "    </tr>\n",
       "  </tbody>\n",
       "</table>\n",
       "<p>1286 rows × 7 columns</p>\n",
       "</div>"
      ],
      "text/plain": [
       "                    Price  Adj Close      Close       High        Low  \\\n",
       "0                  Ticker        NaN        NaN        NaN        NaN   \n",
       "1                    Date        NaN        NaN        NaN        NaN   \n",
       "2     2025-04-16 00:00:00  71.029999  71.029999  71.330002  69.800003   \n",
       "3     2025-04-15 00:00:00  70.580002  70.580002  70.680000  68.580002   \n",
       "4     2025-04-14 00:00:00  68.500000  68.500000  68.949997  67.690002   \n",
       "...                   ...        ...        ...        ...        ...   \n",
       "1281  2020-04-23 00:00:00  18.800018  27.129999  27.934999  25.965000   \n",
       "1282  2020-04-22 00:00:00  17.694748  25.535000  25.665001  24.785000   \n",
       "1283  2020-04-21 00:00:00  17.095335  24.670000  25.340000  24.670000   \n",
       "1284  2020-04-20 00:00:00  17.805620  25.695000  25.840000  24.870001   \n",
       "1285  2020-04-17 00:00:00  17.649704  25.469999  26.594999  25.250000   \n",
       "\n",
       "           Open     Volume  \n",
       "0           NaN        NaN  \n",
       "1           NaN        NaN  \n",
       "2     69.930000   725521.0  \n",
       "3     68.580002  3565333.0  \n",
       "4     68.190002  4086459.0  \n",
       "...         ...        ...  \n",
       "1281  26.055000  8228825.0  \n",
       "1282  25.014999  4322856.0  \n",
       "1283  24.900000  6244704.0  \n",
       "1284  25.799999  4940639.0  \n",
       "1285  25.600000  9194930.0  \n",
       "\n",
       "[1286 rows x 7 columns]"
      ]
     },
     "execution_count": 81,
     "metadata": {},
     "output_type": "execute_result"
    }
   ],
   "source": [
    "read_file.replace(\"BNP.PA\", np.nan, inplace = True)\n",
    "\n",
    "read_file"
   ]
  },
  {
   "cell_type": "code",
   "execution_count": 82,
   "id": "f0435fc2-3216-417f-ad41-f702cee37616",
   "metadata": {},
   "outputs": [
    {
     "data": {
      "text/html": [
       "<div>\n",
       "<style scoped>\n",
       "    .dataframe tbody tr th:only-of-type {\n",
       "        vertical-align: middle;\n",
       "    }\n",
       "\n",
       "    .dataframe tbody tr th {\n",
       "        vertical-align: top;\n",
       "    }\n",
       "\n",
       "    .dataframe thead th {\n",
       "        text-align: right;\n",
       "    }\n",
       "</style>\n",
       "<table border=\"1\" class=\"dataframe\">\n",
       "  <thead>\n",
       "    <tr style=\"text-align: right;\">\n",
       "      <th></th>\n",
       "      <th>Price</th>\n",
       "      <th>Adj Close</th>\n",
       "      <th>Close</th>\n",
       "      <th>High</th>\n",
       "      <th>Low</th>\n",
       "      <th>Open</th>\n",
       "      <th>Volume</th>\n",
       "    </tr>\n",
       "  </thead>\n",
       "  <tbody>\n",
       "    <tr>\n",
       "      <th>2</th>\n",
       "      <td>2025-04-16 00:00:00</td>\n",
       "      <td>71.029999</td>\n",
       "      <td>71.029999</td>\n",
       "      <td>71.330002</td>\n",
       "      <td>69.800003</td>\n",
       "      <td>69.930000</td>\n",
       "      <td>725521.0</td>\n",
       "    </tr>\n",
       "    <tr>\n",
       "      <th>3</th>\n",
       "      <td>2025-04-15 00:00:00</td>\n",
       "      <td>70.580002</td>\n",
       "      <td>70.580002</td>\n",
       "      <td>70.680000</td>\n",
       "      <td>68.580002</td>\n",
       "      <td>68.580002</td>\n",
       "      <td>3565333.0</td>\n",
       "    </tr>\n",
       "    <tr>\n",
       "      <th>4</th>\n",
       "      <td>2025-04-14 00:00:00</td>\n",
       "      <td>68.500000</td>\n",
       "      <td>68.500000</td>\n",
       "      <td>68.949997</td>\n",
       "      <td>67.690002</td>\n",
       "      <td>68.190002</td>\n",
       "      <td>4086459.0</td>\n",
       "    </tr>\n",
       "    <tr>\n",
       "      <th>5</th>\n",
       "      <td>2025-04-11 00:00:00</td>\n",
       "      <td>65.610001</td>\n",
       "      <td>65.610001</td>\n",
       "      <td>68.800003</td>\n",
       "      <td>64.019997</td>\n",
       "      <td>68.150002</td>\n",
       "      <td>5435045.0</td>\n",
       "    </tr>\n",
       "    <tr>\n",
       "      <th>6</th>\n",
       "      <td>2025-04-10 00:00:00</td>\n",
       "      <td>67.230003</td>\n",
       "      <td>67.230003</td>\n",
       "      <td>73.629997</td>\n",
       "      <td>67.230003</td>\n",
       "      <td>73.629997</td>\n",
       "      <td>7709559.0</td>\n",
       "    </tr>\n",
       "    <tr>\n",
       "      <th>...</th>\n",
       "      <td>...</td>\n",
       "      <td>...</td>\n",
       "      <td>...</td>\n",
       "      <td>...</td>\n",
       "      <td>...</td>\n",
       "      <td>...</td>\n",
       "      <td>...</td>\n",
       "    </tr>\n",
       "    <tr>\n",
       "      <th>1281</th>\n",
       "      <td>2020-04-23 00:00:00</td>\n",
       "      <td>18.800018</td>\n",
       "      <td>27.129999</td>\n",
       "      <td>27.934999</td>\n",
       "      <td>25.965000</td>\n",
       "      <td>26.055000</td>\n",
       "      <td>8228825.0</td>\n",
       "    </tr>\n",
       "    <tr>\n",
       "      <th>1282</th>\n",
       "      <td>2020-04-22 00:00:00</td>\n",
       "      <td>17.694748</td>\n",
       "      <td>25.535000</td>\n",
       "      <td>25.665001</td>\n",
       "      <td>24.785000</td>\n",
       "      <td>25.014999</td>\n",
       "      <td>4322856.0</td>\n",
       "    </tr>\n",
       "    <tr>\n",
       "      <th>1283</th>\n",
       "      <td>2020-04-21 00:00:00</td>\n",
       "      <td>17.095335</td>\n",
       "      <td>24.670000</td>\n",
       "      <td>25.340000</td>\n",
       "      <td>24.670000</td>\n",
       "      <td>24.900000</td>\n",
       "      <td>6244704.0</td>\n",
       "    </tr>\n",
       "    <tr>\n",
       "      <th>1284</th>\n",
       "      <td>2020-04-20 00:00:00</td>\n",
       "      <td>17.805620</td>\n",
       "      <td>25.695000</td>\n",
       "      <td>25.840000</td>\n",
       "      <td>24.870001</td>\n",
       "      <td>25.799999</td>\n",
       "      <td>4940639.0</td>\n",
       "    </tr>\n",
       "    <tr>\n",
       "      <th>1285</th>\n",
       "      <td>2020-04-17 00:00:00</td>\n",
       "      <td>17.649704</td>\n",
       "      <td>25.469999</td>\n",
       "      <td>26.594999</td>\n",
       "      <td>25.250000</td>\n",
       "      <td>25.600000</td>\n",
       "      <td>9194930.0</td>\n",
       "    </tr>\n",
       "  </tbody>\n",
       "</table>\n",
       "<p>1284 rows × 7 columns</p>\n",
       "</div>"
      ],
      "text/plain": [
       "                    Price  Adj Close      Close       High        Low  \\\n",
       "2     2025-04-16 00:00:00  71.029999  71.029999  71.330002  69.800003   \n",
       "3     2025-04-15 00:00:00  70.580002  70.580002  70.680000  68.580002   \n",
       "4     2025-04-14 00:00:00  68.500000  68.500000  68.949997  67.690002   \n",
       "5     2025-04-11 00:00:00  65.610001  65.610001  68.800003  64.019997   \n",
       "6     2025-04-10 00:00:00  67.230003  67.230003  73.629997  67.230003   \n",
       "...                   ...        ...        ...        ...        ...   \n",
       "1281  2020-04-23 00:00:00  18.800018  27.129999  27.934999  25.965000   \n",
       "1282  2020-04-22 00:00:00  17.694748  25.535000  25.665001  24.785000   \n",
       "1283  2020-04-21 00:00:00  17.095335  24.670000  25.340000  24.670000   \n",
       "1284  2020-04-20 00:00:00  17.805620  25.695000  25.840000  24.870001   \n",
       "1285  2020-04-17 00:00:00  17.649704  25.469999  26.594999  25.250000   \n",
       "\n",
       "           Open     Volume  \n",
       "2     69.930000   725521.0  \n",
       "3     68.580002  3565333.0  \n",
       "4     68.190002  4086459.0  \n",
       "5     68.150002  5435045.0  \n",
       "6     73.629997  7709559.0  \n",
       "...         ...        ...  \n",
       "1281  26.055000  8228825.0  \n",
       "1282  25.014999  4322856.0  \n",
       "1283  24.900000  6244704.0  \n",
       "1284  25.799999  4940639.0  \n",
       "1285  25.600000  9194930.0  \n",
       "\n",
       "[1284 rows x 7 columns]"
      ]
     },
     "execution_count": 82,
     "metadata": {},
     "output_type": "execute_result"
    }
   ],
   "source": [
    "read_file = read_file.dropna(subset=[\"Volume\"])\n",
    "# If we just need to drop the first line: read_file = read_file.drop(index = 0)\n",
    "read_file"
   ]
  },
  {
   "cell_type": "code",
   "execution_count": 83,
   "id": "d518b58b-e0a8-4c28-a49d-b7c9edea81ed",
   "metadata": {},
   "outputs": [
    {
     "data": {
      "text/html": [
       "<div>\n",
       "<style scoped>\n",
       "    .dataframe tbody tr th:only-of-type {\n",
       "        vertical-align: middle;\n",
       "    }\n",
       "\n",
       "    .dataframe tbody tr th {\n",
       "        vertical-align: top;\n",
       "    }\n",
       "\n",
       "    .dataframe thead th {\n",
       "        text-align: right;\n",
       "    }\n",
       "</style>\n",
       "<table border=\"1\" class=\"dataframe\">\n",
       "  <thead>\n",
       "    <tr style=\"text-align: right;\">\n",
       "      <th></th>\n",
       "      <th>Price</th>\n",
       "      <th>Adj Close</th>\n",
       "      <th>Close</th>\n",
       "      <th>High</th>\n",
       "      <th>Low</th>\n",
       "      <th>Open</th>\n",
       "      <th>Volume</th>\n",
       "    </tr>\n",
       "  </thead>\n",
       "  <tbody>\n",
       "    <tr>\n",
       "      <th>0</th>\n",
       "      <td>2025-04-16 00:00:00</td>\n",
       "      <td>71.029999</td>\n",
       "      <td>71.029999</td>\n",
       "      <td>71.330002</td>\n",
       "      <td>69.800003</td>\n",
       "      <td>69.930000</td>\n",
       "      <td>725521.0</td>\n",
       "    </tr>\n",
       "    <tr>\n",
       "      <th>1</th>\n",
       "      <td>2025-04-15 00:00:00</td>\n",
       "      <td>70.580002</td>\n",
       "      <td>70.580002</td>\n",
       "      <td>70.680000</td>\n",
       "      <td>68.580002</td>\n",
       "      <td>68.580002</td>\n",
       "      <td>3565333.0</td>\n",
       "    </tr>\n",
       "    <tr>\n",
       "      <th>2</th>\n",
       "      <td>2025-04-14 00:00:00</td>\n",
       "      <td>68.500000</td>\n",
       "      <td>68.500000</td>\n",
       "      <td>68.949997</td>\n",
       "      <td>67.690002</td>\n",
       "      <td>68.190002</td>\n",
       "      <td>4086459.0</td>\n",
       "    </tr>\n",
       "    <tr>\n",
       "      <th>3</th>\n",
       "      <td>2025-04-11 00:00:00</td>\n",
       "      <td>65.610001</td>\n",
       "      <td>65.610001</td>\n",
       "      <td>68.800003</td>\n",
       "      <td>64.019997</td>\n",
       "      <td>68.150002</td>\n",
       "      <td>5435045.0</td>\n",
       "    </tr>\n",
       "    <tr>\n",
       "      <th>4</th>\n",
       "      <td>2025-04-10 00:00:00</td>\n",
       "      <td>67.230003</td>\n",
       "      <td>67.230003</td>\n",
       "      <td>73.629997</td>\n",
       "      <td>67.230003</td>\n",
       "      <td>73.629997</td>\n",
       "      <td>7709559.0</td>\n",
       "    </tr>\n",
       "    <tr>\n",
       "      <th>...</th>\n",
       "      <td>...</td>\n",
       "      <td>...</td>\n",
       "      <td>...</td>\n",
       "      <td>...</td>\n",
       "      <td>...</td>\n",
       "      <td>...</td>\n",
       "      <td>...</td>\n",
       "    </tr>\n",
       "    <tr>\n",
       "      <th>1279</th>\n",
       "      <td>2020-04-23 00:00:00</td>\n",
       "      <td>18.800018</td>\n",
       "      <td>27.129999</td>\n",
       "      <td>27.934999</td>\n",
       "      <td>25.965000</td>\n",
       "      <td>26.055000</td>\n",
       "      <td>8228825.0</td>\n",
       "    </tr>\n",
       "    <tr>\n",
       "      <th>1280</th>\n",
       "      <td>2020-04-22 00:00:00</td>\n",
       "      <td>17.694748</td>\n",
       "      <td>25.535000</td>\n",
       "      <td>25.665001</td>\n",
       "      <td>24.785000</td>\n",
       "      <td>25.014999</td>\n",
       "      <td>4322856.0</td>\n",
       "    </tr>\n",
       "    <tr>\n",
       "      <th>1281</th>\n",
       "      <td>2020-04-21 00:00:00</td>\n",
       "      <td>17.095335</td>\n",
       "      <td>24.670000</td>\n",
       "      <td>25.340000</td>\n",
       "      <td>24.670000</td>\n",
       "      <td>24.900000</td>\n",
       "      <td>6244704.0</td>\n",
       "    </tr>\n",
       "    <tr>\n",
       "      <th>1282</th>\n",
       "      <td>2020-04-20 00:00:00</td>\n",
       "      <td>17.805620</td>\n",
       "      <td>25.695000</td>\n",
       "      <td>25.840000</td>\n",
       "      <td>24.870001</td>\n",
       "      <td>25.799999</td>\n",
       "      <td>4940639.0</td>\n",
       "    </tr>\n",
       "    <tr>\n",
       "      <th>1283</th>\n",
       "      <td>2020-04-17 00:00:00</td>\n",
       "      <td>17.649704</td>\n",
       "      <td>25.469999</td>\n",
       "      <td>26.594999</td>\n",
       "      <td>25.250000</td>\n",
       "      <td>25.600000</td>\n",
       "      <td>9194930.0</td>\n",
       "    </tr>\n",
       "  </tbody>\n",
       "</table>\n",
       "<p>1284 rows × 7 columns</p>\n",
       "</div>"
      ],
      "text/plain": [
       "                    Price  Adj Close      Close       High        Low  \\\n",
       "0     2025-04-16 00:00:00  71.029999  71.029999  71.330002  69.800003   \n",
       "1     2025-04-15 00:00:00  70.580002  70.580002  70.680000  68.580002   \n",
       "2     2025-04-14 00:00:00  68.500000  68.500000  68.949997  67.690002   \n",
       "3     2025-04-11 00:00:00  65.610001  65.610001  68.800003  64.019997   \n",
       "4     2025-04-10 00:00:00  67.230003  67.230003  73.629997  67.230003   \n",
       "...                   ...        ...        ...        ...        ...   \n",
       "1279  2020-04-23 00:00:00  18.800018  27.129999  27.934999  25.965000   \n",
       "1280  2020-04-22 00:00:00  17.694748  25.535000  25.665001  24.785000   \n",
       "1281  2020-04-21 00:00:00  17.095335  24.670000  25.340000  24.670000   \n",
       "1282  2020-04-20 00:00:00  17.805620  25.695000  25.840000  24.870001   \n",
       "1283  2020-04-17 00:00:00  17.649704  25.469999  26.594999  25.250000   \n",
       "\n",
       "           Open     Volume  \n",
       "0     69.930000   725521.0  \n",
       "1     68.580002  3565333.0  \n",
       "2     68.190002  4086459.0  \n",
       "3     68.150002  5435045.0  \n",
       "4     73.629997  7709559.0  \n",
       "...         ...        ...  \n",
       "1279  26.055000  8228825.0  \n",
       "1280  25.014999  4322856.0  \n",
       "1281  24.900000  6244704.0  \n",
       "1282  25.799999  4940639.0  \n",
       "1283  25.600000  9194930.0  \n",
       "\n",
       "[1284 rows x 7 columns]"
      ]
     },
     "execution_count": 83,
     "metadata": {},
     "output_type": "execute_result"
    }
   ],
   "source": [
    "read_file.reset_index(drop = True, inplace = True)\n",
    "read_file"
   ]
  },
  {
   "cell_type": "code",
   "execution_count": 84,
   "id": "bff8bc98-c7aa-4b5e-8f93-bfaa2bb2a9ea",
   "metadata": {},
   "outputs": [
    {
     "data": {
      "text/plain": [
       "0        Price\n",
       "1    Adj Close\n",
       "2        Close\n",
       "3         High\n",
       "4          Low\n",
       "5         Open\n",
       "6       Volume\n",
       "dtype: object"
      ]
     },
     "execution_count": 84,
     "metadata": {},
     "output_type": "execute_result"
    }
   ],
   "source": [
    "headers = pd.Series(read_file.columns)\n",
    "headers"
   ]
  },
  {
   "cell_type": "code",
   "execution_count": 85,
   "id": "166b7150-3ea0-4d73-99b5-eb828ffb4c46",
   "metadata": {},
   "outputs": [],
   "source": [
    "desired_order = [\"Price\", \"Close\", \"High\", \"Low\", \"Open\", \"Volume\", \"Adj Close\"]"
   ]
  },
  {
   "cell_type": "code",
   "execution_count": 86,
   "id": "887b2964-bdcc-4567-a67c-48b96b1c73af",
   "metadata": {},
   "outputs": [
    {
     "data": {
      "text/html": [
       "<div>\n",
       "<style scoped>\n",
       "    .dataframe tbody tr th:only-of-type {\n",
       "        vertical-align: middle;\n",
       "    }\n",
       "\n",
       "    .dataframe tbody tr th {\n",
       "        vertical-align: top;\n",
       "    }\n",
       "\n",
       "    .dataframe thead th {\n",
       "        text-align: right;\n",
       "    }\n",
       "</style>\n",
       "<table border=\"1\" class=\"dataframe\">\n",
       "  <thead>\n",
       "    <tr style=\"text-align: right;\">\n",
       "      <th></th>\n",
       "      <th>Date</th>\n",
       "      <th>Close</th>\n",
       "      <th>High</th>\n",
       "      <th>Low</th>\n",
       "      <th>Open</th>\n",
       "      <th>Volume</th>\n",
       "      <th>Adj Close</th>\n",
       "    </tr>\n",
       "  </thead>\n",
       "  <tbody>\n",
       "    <tr>\n",
       "      <th>0</th>\n",
       "      <td>2025-04-16 00:00:00</td>\n",
       "      <td>71.029999</td>\n",
       "      <td>71.330002</td>\n",
       "      <td>69.800003</td>\n",
       "      <td>69.930000</td>\n",
       "      <td>725521.0</td>\n",
       "      <td>71.029999</td>\n",
       "    </tr>\n",
       "    <tr>\n",
       "      <th>1</th>\n",
       "      <td>2025-04-15 00:00:00</td>\n",
       "      <td>70.580002</td>\n",
       "      <td>70.680000</td>\n",
       "      <td>68.580002</td>\n",
       "      <td>68.580002</td>\n",
       "      <td>3565333.0</td>\n",
       "      <td>70.580002</td>\n",
       "    </tr>\n",
       "    <tr>\n",
       "      <th>2</th>\n",
       "      <td>2025-04-14 00:00:00</td>\n",
       "      <td>68.500000</td>\n",
       "      <td>68.949997</td>\n",
       "      <td>67.690002</td>\n",
       "      <td>68.190002</td>\n",
       "      <td>4086459.0</td>\n",
       "      <td>68.500000</td>\n",
       "    </tr>\n",
       "    <tr>\n",
       "      <th>3</th>\n",
       "      <td>2025-04-11 00:00:00</td>\n",
       "      <td>65.610001</td>\n",
       "      <td>68.800003</td>\n",
       "      <td>64.019997</td>\n",
       "      <td>68.150002</td>\n",
       "      <td>5435045.0</td>\n",
       "      <td>65.610001</td>\n",
       "    </tr>\n",
       "    <tr>\n",
       "      <th>4</th>\n",
       "      <td>2025-04-10 00:00:00</td>\n",
       "      <td>67.230003</td>\n",
       "      <td>73.629997</td>\n",
       "      <td>67.230003</td>\n",
       "      <td>73.629997</td>\n",
       "      <td>7709559.0</td>\n",
       "      <td>67.230003</td>\n",
       "    </tr>\n",
       "    <tr>\n",
       "      <th>...</th>\n",
       "      <td>...</td>\n",
       "      <td>...</td>\n",
       "      <td>...</td>\n",
       "      <td>...</td>\n",
       "      <td>...</td>\n",
       "      <td>...</td>\n",
       "      <td>...</td>\n",
       "    </tr>\n",
       "    <tr>\n",
       "      <th>1279</th>\n",
       "      <td>2020-04-23 00:00:00</td>\n",
       "      <td>27.129999</td>\n",
       "      <td>27.934999</td>\n",
       "      <td>25.965000</td>\n",
       "      <td>26.055000</td>\n",
       "      <td>8228825.0</td>\n",
       "      <td>18.800018</td>\n",
       "    </tr>\n",
       "    <tr>\n",
       "      <th>1280</th>\n",
       "      <td>2020-04-22 00:00:00</td>\n",
       "      <td>25.535000</td>\n",
       "      <td>25.665001</td>\n",
       "      <td>24.785000</td>\n",
       "      <td>25.014999</td>\n",
       "      <td>4322856.0</td>\n",
       "      <td>17.694748</td>\n",
       "    </tr>\n",
       "    <tr>\n",
       "      <th>1281</th>\n",
       "      <td>2020-04-21 00:00:00</td>\n",
       "      <td>24.670000</td>\n",
       "      <td>25.340000</td>\n",
       "      <td>24.670000</td>\n",
       "      <td>24.900000</td>\n",
       "      <td>6244704.0</td>\n",
       "      <td>17.095335</td>\n",
       "    </tr>\n",
       "    <tr>\n",
       "      <th>1282</th>\n",
       "      <td>2020-04-20 00:00:00</td>\n",
       "      <td>25.695000</td>\n",
       "      <td>25.840000</td>\n",
       "      <td>24.870001</td>\n",
       "      <td>25.799999</td>\n",
       "      <td>4940639.0</td>\n",
       "      <td>17.805620</td>\n",
       "    </tr>\n",
       "    <tr>\n",
       "      <th>1283</th>\n",
       "      <td>2020-04-17 00:00:00</td>\n",
       "      <td>25.469999</td>\n",
       "      <td>26.594999</td>\n",
       "      <td>25.250000</td>\n",
       "      <td>25.600000</td>\n",
       "      <td>9194930.0</td>\n",
       "      <td>17.649704</td>\n",
       "    </tr>\n",
       "  </tbody>\n",
       "</table>\n",
       "<p>1284 rows × 7 columns</p>\n",
       "</div>"
      ],
      "text/plain": [
       "                     Date      Close       High        Low       Open  \\\n",
       "0     2025-04-16 00:00:00  71.029999  71.330002  69.800003  69.930000   \n",
       "1     2025-04-15 00:00:00  70.580002  70.680000  68.580002  68.580002   \n",
       "2     2025-04-14 00:00:00  68.500000  68.949997  67.690002  68.190002   \n",
       "3     2025-04-11 00:00:00  65.610001  68.800003  64.019997  68.150002   \n",
       "4     2025-04-10 00:00:00  67.230003  73.629997  67.230003  73.629997   \n",
       "...                   ...        ...        ...        ...        ...   \n",
       "1279  2020-04-23 00:00:00  27.129999  27.934999  25.965000  26.055000   \n",
       "1280  2020-04-22 00:00:00  25.535000  25.665001  24.785000  25.014999   \n",
       "1281  2020-04-21 00:00:00  24.670000  25.340000  24.670000  24.900000   \n",
       "1282  2020-04-20 00:00:00  25.695000  25.840000  24.870001  25.799999   \n",
       "1283  2020-04-17 00:00:00  25.469999  26.594999  25.250000  25.600000   \n",
       "\n",
       "         Volume  Adj Close  \n",
       "0      725521.0  71.029999  \n",
       "1     3565333.0  70.580002  \n",
       "2     4086459.0  68.500000  \n",
       "3     5435045.0  65.610001  \n",
       "4     7709559.0  67.230003  \n",
       "...         ...        ...  \n",
       "1279  8228825.0  18.800018  \n",
       "1280  4322856.0  17.694748  \n",
       "1281  6244704.0  17.095335  \n",
       "1282  4940639.0  17.805620  \n",
       "1283  9194930.0  17.649704  \n",
       "\n",
       "[1284 rows x 7 columns]"
      ]
     },
     "execution_count": 86,
     "metadata": {},
     "output_type": "execute_result"
    }
   ],
   "source": [
    "read_file = read_file[desired_order]\n",
    "read_file.rename(columns = {\"Price\" : \"Date\"}, inplace = True)\n",
    "read_file"
   ]
  },
  {
   "cell_type": "code",
   "execution_count": 87,
   "id": "b25797c2-613d-4a84-b678-1ce7ff68bd8e",
   "metadata": {},
   "outputs": [
    {
     "data": {
      "text/plain": [
       "Date          object\n",
       "Close        float64\n",
       "High         float64\n",
       "Low          float64\n",
       "Open         float64\n",
       "Volume       float64\n",
       "Adj Close    float64\n",
       "dtype: object"
      ]
     },
     "execution_count": 87,
     "metadata": {},
     "output_type": "execute_result"
    }
   ],
   "source": [
    "read_file.dtypes\n",
    "# In pandas, Python strings are stored as objects"
   ]
  },
  {
   "cell_type": "code",
   "execution_count": 88,
   "id": "e168a5b1-1f0f-415b-8efa-5aff29cf463c",
   "metadata": {},
   "outputs": [
    {
     "data": {
      "text/html": [
       "<div>\n",
       "<style scoped>\n",
       "    .dataframe tbody tr th:only-of-type {\n",
       "        vertical-align: middle;\n",
       "    }\n",
       "\n",
       "    .dataframe tbody tr th {\n",
       "        vertical-align: top;\n",
       "    }\n",
       "\n",
       "    .dataframe thead th {\n",
       "        text-align: right;\n",
       "    }\n",
       "</style>\n",
       "<table border=\"1\" class=\"dataframe\">\n",
       "  <thead>\n",
       "    <tr style=\"text-align: right;\">\n",
       "      <th></th>\n",
       "      <th>Date</th>\n",
       "      <th>Close</th>\n",
       "      <th>High</th>\n",
       "      <th>Low</th>\n",
       "      <th>Open</th>\n",
       "      <th>Volume</th>\n",
       "      <th>Adj Close</th>\n",
       "    </tr>\n",
       "  </thead>\n",
       "  <tbody>\n",
       "    <tr>\n",
       "      <th>0</th>\n",
       "      <td>2025-04-16</td>\n",
       "      <td>71.029999</td>\n",
       "      <td>71.330002</td>\n",
       "      <td>69.800003</td>\n",
       "      <td>69.930000</td>\n",
       "      <td>725521</td>\n",
       "      <td>71.029999</td>\n",
       "    </tr>\n",
       "    <tr>\n",
       "      <th>1</th>\n",
       "      <td>2025-04-15</td>\n",
       "      <td>70.580002</td>\n",
       "      <td>70.680000</td>\n",
       "      <td>68.580002</td>\n",
       "      <td>68.580002</td>\n",
       "      <td>3565333</td>\n",
       "      <td>70.580002</td>\n",
       "    </tr>\n",
       "    <tr>\n",
       "      <th>2</th>\n",
       "      <td>2025-04-14</td>\n",
       "      <td>68.500000</td>\n",
       "      <td>68.949997</td>\n",
       "      <td>67.690002</td>\n",
       "      <td>68.190002</td>\n",
       "      <td>4086459</td>\n",
       "      <td>68.500000</td>\n",
       "    </tr>\n",
       "    <tr>\n",
       "      <th>3</th>\n",
       "      <td>2025-04-11</td>\n",
       "      <td>65.610001</td>\n",
       "      <td>68.800003</td>\n",
       "      <td>64.019997</td>\n",
       "      <td>68.150002</td>\n",
       "      <td>5435045</td>\n",
       "      <td>65.610001</td>\n",
       "    </tr>\n",
       "    <tr>\n",
       "      <th>4</th>\n",
       "      <td>2025-04-10</td>\n",
       "      <td>67.230003</td>\n",
       "      <td>73.629997</td>\n",
       "      <td>67.230003</td>\n",
       "      <td>73.629997</td>\n",
       "      <td>7709559</td>\n",
       "      <td>67.230003</td>\n",
       "    </tr>\n",
       "    <tr>\n",
       "      <th>...</th>\n",
       "      <td>...</td>\n",
       "      <td>...</td>\n",
       "      <td>...</td>\n",
       "      <td>...</td>\n",
       "      <td>...</td>\n",
       "      <td>...</td>\n",
       "      <td>...</td>\n",
       "    </tr>\n",
       "    <tr>\n",
       "      <th>1279</th>\n",
       "      <td>2020-04-23</td>\n",
       "      <td>27.129999</td>\n",
       "      <td>27.934999</td>\n",
       "      <td>25.965000</td>\n",
       "      <td>26.055000</td>\n",
       "      <td>8228825</td>\n",
       "      <td>18.800018</td>\n",
       "    </tr>\n",
       "    <tr>\n",
       "      <th>1280</th>\n",
       "      <td>2020-04-22</td>\n",
       "      <td>25.535000</td>\n",
       "      <td>25.665001</td>\n",
       "      <td>24.785000</td>\n",
       "      <td>25.014999</td>\n",
       "      <td>4322856</td>\n",
       "      <td>17.694748</td>\n",
       "    </tr>\n",
       "    <tr>\n",
       "      <th>1281</th>\n",
       "      <td>2020-04-21</td>\n",
       "      <td>24.670000</td>\n",
       "      <td>25.340000</td>\n",
       "      <td>24.670000</td>\n",
       "      <td>24.900000</td>\n",
       "      <td>6244704</td>\n",
       "      <td>17.095335</td>\n",
       "    </tr>\n",
       "    <tr>\n",
       "      <th>1282</th>\n",
       "      <td>2020-04-20</td>\n",
       "      <td>25.695000</td>\n",
       "      <td>25.840000</td>\n",
       "      <td>24.870001</td>\n",
       "      <td>25.799999</td>\n",
       "      <td>4940639</td>\n",
       "      <td>17.805620</td>\n",
       "    </tr>\n",
       "    <tr>\n",
       "      <th>1283</th>\n",
       "      <td>2020-04-17</td>\n",
       "      <td>25.469999</td>\n",
       "      <td>26.594999</td>\n",
       "      <td>25.250000</td>\n",
       "      <td>25.600000</td>\n",
       "      <td>9194930</td>\n",
       "      <td>17.649704</td>\n",
       "    </tr>\n",
       "  </tbody>\n",
       "</table>\n",
       "<p>1284 rows × 7 columns</p>\n",
       "</div>"
      ],
      "text/plain": [
       "            Date      Close       High        Low       Open   Volume  \\\n",
       "0     2025-04-16  71.029999  71.330002  69.800003  69.930000   725521   \n",
       "1     2025-04-15  70.580002  70.680000  68.580002  68.580002  3565333   \n",
       "2     2025-04-14  68.500000  68.949997  67.690002  68.190002  4086459   \n",
       "3     2025-04-11  65.610001  68.800003  64.019997  68.150002  5435045   \n",
       "4     2025-04-10  67.230003  73.629997  67.230003  73.629997  7709559   \n",
       "...          ...        ...        ...        ...        ...      ...   \n",
       "1279  2020-04-23  27.129999  27.934999  25.965000  26.055000  8228825   \n",
       "1280  2020-04-22  25.535000  25.665001  24.785000  25.014999  4322856   \n",
       "1281  2020-04-21  24.670000  25.340000  24.670000  24.900000  6244704   \n",
       "1282  2020-04-20  25.695000  25.840000  24.870001  25.799999  4940639   \n",
       "1283  2020-04-17  25.469999  26.594999  25.250000  25.600000  9194930   \n",
       "\n",
       "      Adj Close  \n",
       "0     71.029999  \n",
       "1     70.580002  \n",
       "2     68.500000  \n",
       "3     65.610001  \n",
       "4     67.230003  \n",
       "...         ...  \n",
       "1279  18.800018  \n",
       "1280  17.694748  \n",
       "1281  17.095335  \n",
       "1282  17.805620  \n",
       "1283  17.649704  \n",
       "\n",
       "[1284 rows x 7 columns]"
      ]
     },
     "execution_count": 88,
     "metadata": {},
     "output_type": "execute_result"
    }
   ],
   "source": [
    "read_file[\"Date\"] = read_file[\"Date\"].astype(str).str[:10] \n",
    "read_file[\"Volume\"] = read_file[\"Volume\"].astype(int)\n",
    "'''\n",
    "In pandas, the object dtype can store anything, including:\n",
    "* Python strings (str)\n",
    "* Python datetime objects (datetime.datetime)\n",
    "* Even lists, dictionaries, or custom objects (though that’s uncommon in clean datasets)\n",
    "'''\n",
    "read_file"
   ]
  },
  {
   "cell_type": "code",
   "execution_count": 89,
   "id": "45918aee-0d46-4790-9c68-c80f4dbe13a6",
   "metadata": {},
   "outputs": [
    {
     "data": {
      "text/plain": [
       "Date          object\n",
       "Close        float64\n",
       "High         float64\n",
       "Low          float64\n",
       "Open         float64\n",
       "Volume         int32\n",
       "Adj Close    float64\n",
       "dtype: object"
      ]
     },
     "execution_count": 89,
     "metadata": {},
     "output_type": "execute_result"
    }
   ],
   "source": [
    "read_file.dtypes"
   ]
  },
  {
   "cell_type": "code",
   "execution_count": null,
   "id": "9fa5a7ce-09b0-4896-b5ef-9f33b6a9cee3",
   "metadata": {},
   "outputs": [],
   "source": []
  }
 ],
 "metadata": {
  "kernelspec": {
   "display_name": "Python 3 (ipykernel)",
   "language": "python",
   "name": "python3"
  },
  "language_info": {
   "codemirror_mode": {
    "name": "ipython",
    "version": 3
   },
   "file_extension": ".py",
   "mimetype": "text/x-python",
   "name": "python",
   "nbconvert_exporter": "python",
   "pygments_lexer": "ipython3",
   "version": "3.11.5"
  }
 },
 "nbformat": 4,
 "nbformat_minor": 5
}
